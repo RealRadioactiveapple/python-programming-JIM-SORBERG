{
 "cells": [
  {
   "cell_type": "markdown",
   "source": [
    "## input/output and variables\r\n"
   ],
   "metadata": {}
  },
  {
   "cell_type": "code",
   "execution_count": 7,
   "source": [
    "# det här är en komment som ignoneras vid körning\r\n",
    "name = \"Jim\" #skapar en variabel som heter namn som innnehåller värdet \"Jim\"\r\n",
    "print(\"hello\")\r\n",
    "\r\n",
    "age = 33 #skappat en variabel age som är tilldelat värdet 30\r\n",
    "\r\n",
    "print(\"hej\", name,\"!\")# ett sätt att blanda ich variabler i en print\r\n",
    "print(f\"hej {name}, du är {age} år gammal\")# f-string (formatted string)\r\n",
    "\r\n",
    "name = \"anna\" # teilldelat nytt värde för variablen name\r\n",
    "print(f\"Hej {name}\")\r\n",
    "\r\n",
    "name = 35 # gör det tydlig och mixa inte olika varibelnman så att det blir enkelt att förstå\r\n",
    "print(f\"hej, {name}\")\r\n",
    "\r\n",
    "age = 30.4#data typen är en float\r\n",
    "print(f\"min ålder är mer specifikt {age}\")"
   ],
   "outputs": [
    {
     "output_type": "stream",
     "name": "stdout",
     "text": [
      "hello\n",
      "hej Jim !\n",
      "hej Jim, du är 33 år gammal\n",
      "Hej anna\n",
      "hej, 35\n",
      "min ålder är mer specifikt 30.4\n"
     ]
    }
   ],
   "metadata": {}
  },
  {
   "cell_type": "markdown",
   "source": [
    "## Input från användare"
   ],
   "metadata": {}
  },
  {
   "cell_type": "code",
   "execution_count": 13,
   "source": [
    "name = input(\"vad heter du? \") #name blir en string som har variblen som användaren läger in\r\n",
    "age = input(\"hur gammal är du? \")# detta är också en sträng vilket gör att vi inte kan ärkna med detta\r\n",
    "\r\n",
    "print(f\"du heter {name}, du är {age} gammal\")"
   ],
   "outputs": [
    {
     "output_type": "stream",
     "name": "stdout",
     "text": [
      "du heter , du är  gammal\n"
     ]
    }
   ],
   "metadata": {}
  },
  {
   "cell_type": "code",
   "execution_count": 14,
   "source": [
    "#f = m*g\r\n",
    "\r\n",
    "gravity = 9.82\r\n",
    "mass = float(input(\"Hur mycket väger du? \"))\r\n",
    "\r\n",
    "forec = mass*gravity\r\n",
    "print(f\"din tyngd är{forec}N\")\r\n",
    "print(f\"din tyngd är {forec}\")"
   ],
   "outputs": [
    {
     "output_type": "stream",
     "name": "stdout",
     "text": [
      "din tyngd är245.5N\n",
      "din tyngd är 245.5\n"
     ]
    }
   ],
   "metadata": {}
  },
  {
   "cell_type": "markdown",
   "source": [
    "## IF-sats"
   ],
   "metadata": {}
  },
  {
   "cell_type": "code",
   "execution_count": 16,
   "source": [
    "age =  int(input(\"hur gammal är du\"))\r\n",
    "\r\n",
    "if age < 18:\r\n",
    "    print(\"du får inte gå till puben\")\r\n",
    "else:\r\n",
    "    print(\"du får gå till puben\")"
   ],
   "outputs": [
    {
     "output_type": "stream",
     "name": "stdout",
     "text": [
      "du får gå till puben\n"
     ]
    }
   ],
   "metadata": {}
  },
  {
   "cell_type": "code",
   "execution_count": 17,
   "source": [
    "age = 15\r\n",
    "heigt= 154\r\n",
    "\r\n",
    "if age >= 11 and heigt >= 130:# båda tallen måste vara true\r\n",
    "    print(\"åååååk\")\r\n",
    "else:\r\n",
    "    print(\"du får inte\")\r\n",
    "\r\n",
    "print(\"ha så kul din jävle\")\r\n"
   ],
   "outputs": [
    {
     "output_type": "stream",
     "name": "stdout",
     "text": [
      "åååååk\n",
      "ha så kul din jävle\n"
     ]
    }
   ],
   "metadata": {}
  },
  {
   "cell_type": "code",
   "execution_count": null,
   "source": [
    "age = 15\r\n",
    "heigt= 154\r\n",
    "\r\n",
    "if age >= 11 or heigt >= 130: #antgien enna eller andrta måste vara true för att det ska gå\r\n",
    "    print(\"åååååk\")\r\n",
    "else:\r\n",
    "    print(\"du får inte\")\r\n",
    "\r\n",
    "print(\"ha så kul din jävle\")"
   ],
   "outputs": [],
   "metadata": {}
  },
  {
   "cell_type": "code",
   "execution_count": 20,
   "source": [
    "#modelus operatorn\r\n",
    "number = 8\r\n",
    "#hur ser vi om det enna tallet är udda?\r\n",
    "#dividera tallet är 2 och kolla om resten är 0\r\n",
    "print(number%2)\r\n",
    "\r\n",
    "\r\n",
    "if number % 2 == 0:\r\n",
    "    print(f\"{number} är jämt\")\r\n",
    "else:\r\n",
    "    print(f\"{number} är udda\")"
   ],
   "outputs": [
    {
     "output_type": "stream",
     "name": "stdout",
     "text": [
      "0\n",
      "8 är jämt\n"
     ]
    }
   ],
   "metadata": {}
  }
 ],
 "metadata": {
  "orig_nbformat": 4,
  "language_info": {
   "name": "python",
   "version": "3.9.6",
   "mimetype": "text/x-python",
   "codemirror_mode": {
    "name": "ipython",
    "version": 3
   },
   "pygments_lexer": "ipython3",
   "nbconvert_exporter": "python",
   "file_extension": ".py"
  },
  "kernelspec": {
   "name": "python3",
   "display_name": "Python 3.9.6 64-bit"
  },
  "interpreter": {
   "hash": "e977e0ca895858c09f657d66da371d37fbd64960fcdde3bfa9fb5fdff40c5ad5"
  }
 },
 "nbformat": 4,
 "nbformat_minor": 2
}
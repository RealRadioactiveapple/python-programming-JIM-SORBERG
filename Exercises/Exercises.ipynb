{
 "cells": [
  {
   "cell_type": "markdown",
   "source": [
    "## Exircises"
   ],
   "metadata": {}
  },
  {
   "cell_type": "code",
   "execution_count": null,
   "source": [
    "import math\r\n",
    "a= int(input(\"enter first number: \"))\r\n",
    "b= int(input(\"enter second number: \"))\r\n",
    "c= math.sqrt(\r\n",
    "    \r\n",
    "    math.pow(a,2) + \r\n",
    "    math.pow(b,2)\r\n",
    "    )\r\n",
    "print(c)\r\n",
    "\r\n",
    "\r\n"
   ],
   "outputs": [],
   "metadata": {}
  },
  {
   "cell_type": "code",
   "execution_count": null,
   "source": [
    "import math\r\n",
    "a= int(input(\"enter first number: \"))\r\n",
    "b= int(input(\"enter second number: \"))\r\n",
    "c=(a/b)*100\r\n",
    "print(c)\r\n"
   ],
   "outputs": [],
   "metadata": {}
  },
  {
   "cell_type": "code",
   "execution_count": 3,
   "source": [
    "a_x=4\r\n",
    "a_y=4\r\n",
    "\r\n",
    "\r\n",
    "b_x= 0\r\n",
    "b_y=1\r\n",
    "\r\n",
    "k = (b_y-a_y)/(b_x-a_x)\r\n",
    "\r\n",
    "#if k>0:\r\n",
    " #   m = b_y\r\n",
    "#elif k<0:\r\n",
    "  #  m=a_y\r\n",
    "#else:\r\n",
    "   # m=0\r\n",
    "m = int (a_y-(k*a_x))\r\n",
    "\r\n",
    "print(f\"y = {k}x + {m}\")"
   ],
   "outputs": [
    {
     "output_type": "stream",
     "name": "stdout",
     "text": [
      "y = 0.75x + 1\n"
     ]
    }
   ],
   "metadata": {}
  },
  {
   "cell_type": "code",
   "execution_count": 6,
   "source": [
    "import math\r\n",
    "a_x=3\r\n",
    "a_y=5\r\n",
    "\r\n",
    "b_x= -2\r\n",
    "b_y= 4\r\n",
    "\r\n",
    "\r\n",
    "\r\n",
    "c = math.sqrt( \r\n",
    "    \r\n",
    "    math.pow(b_x-a_x,2)\r\n",
    "   +\r\n",
    "    math.pow(b_y-a_y,2)\r\n",
    ")    \r\n",
    "\r\n",
    "print(round(c,2))\r\n"
   ],
   "outputs": [
    {
     "output_type": "stream",
     "name": "stdout",
     "text": [
      "5.1\n"
     ]
    }
   ],
   "metadata": {}
  },
  {
   "cell_type": "code",
   "execution_count": 24,
   "source": [
    "import math\r\n",
    "a_x=2\r\n",
    "a_y=1\r\n",
    "a_p=4\r\n",
    "\r\n",
    "b_x= 3\r\n",
    "b_y= 1\r\n",
    "b_p=0\r\n",
    "\r\n",
    "\r\n",
    "c = math.sqrt( \r\n",
    "    \r\n",
    "    math.pow(b_x-a_x,2)\r\n",
    "   +\r\n",
    "    math.pow(b_y-a_y,2)\r\n",
    "    +\r\n",
    "    math.pow(b_p-a_p,2)\r\n",
    ")    \r\n",
    "\r\n",
    "print(f\"resultat {c:.4f}\")\r\n"
   ],
   "outputs": [
    {
     "output_type": "stream",
     "name": "stdout",
     "text": [
      "resultat 4.1231\n"
     ]
    }
   ],
   "metadata": {}
  },
  {
   "cell_type": "markdown",
   "source": [
    "## IF exercises"
   ],
   "metadata": {}
  },
  {
   "cell_type": "code",
   "execution_count": null,
   "source": [
    "import math\r\n",
    "num = int(input(\"enter a number: \"))\r\n",
    "num1 = int(input(\"enter a second number: \"))\r\n",
    "num2 = int(input(\"enter a third number: \"))\r\n",
    "\r\n",
    "\r\n",
    "if num+num1+num2 != 180:\r\n",
    "    print (\"this is not a triangle\")\r\n",
    "elif num == 90 or num1 == 90 or num2 ==90 :\r\n",
    "    print (\"this triangle is right angle\" )\r\n",
    "else:\r\n",
    "    print (\" this triengle is not a right angle\")\r\n"
   ],
   "outputs": [],
   "metadata": {}
  },
  {
   "cell_type": "code",
   "execution_count": null,
   "source": [
    "import math\r\n",
    "num = int(input(\"enter a number: \"))\r\n",
    "num1 = int(input(\"enter a second number: \"))\r\n",
    "\r\n",
    "\r\n",
    "\r\n",
    "if num <num1:\r\n",
    "    print (f\"{num} is smaller\")\r\n",
    "elif num == num1 :\r\n",
    "    print (\"samma nummber\" )\r\n",
    "else:\r\n",
    "    print (f\"{num1} is smaller\")\r\n"
   ],
   "outputs": [],
   "metadata": {}
  },
  {
   "cell_type": "code",
   "execution_count": null,
   "source": [
    "number = int(input(\"Skriv ett tall: \"))\r\n",
    "\r\n",
    "\r\n",
    "\r\n",
    "if number % 2 == 0:\r\n",
    "    print(f\"{number} är jämt\")\r\n",
    "elif number == 0:\r\n",
    "    print(\"it's zero\")\r\n",
    "else:\r\n",
    "    print(f\"{number} är udda\")"
   ],
   "outputs": [],
   "metadata": {}
  },
  {
   "cell_type": "code",
   "execution_count": null,
   "source": [
    "number1 = int(input(\"your Wight: \"))\r\n",
    "number2 = int(input(\"your age: \"))\r\n",
    "\r\n",
    "if number1 >= 40 and number2 >= 12:\r\n",
    "    print(\"take 1-2 pill\")\r\n",
    "#elif number1 <=26 and number1 !=26 and number2 <=12 and number2 !=6 :\r\n",
    "elif number1 >=26 and  number2 >=7:\r\n",
    "\r\n",
    "    print(\"take 1/2-1 pill\")\r\n",
    "#elif number1 <=25 and number1 !=15 and number2 <=7 and number2 !=3:\r\n",
    "elif number1 >=15 and number2 >=3:\r\n",
    " \r\n",
    "    print(\"take 1/2 a pill\")\r\n",
    "else:\r\n",
    "    print(\"dont take a pill\")\r\n"
   ],
   "outputs": [],
   "metadata": {}
  },
  {
   "cell_type": "code",
   "execution_count": null,
   "source": [
    "number = int(input(\"input a number\"))\r\n",
    "\r\n",
    "if number %2 == 0:\r\n",
    "    print(\"evan\")\r\n",
    "else:\r\n",
    "    print(\"not evan\")\r\n",
    "\r\n",
    "if number %5 == 0:\r\n",
    "    print (\"number is deviceble whit 5\")\r\n",
    "else:\r\n",
    "    print (\"is not deviceble whit 5\")\r\n",
    "\r\n",
    "if number %5 ==0:\r\n",
    "    if number %2 ==0:\r\n",
    "        print(\"is deviceble whit 5 and evan\")\r\n",
    "    else:\r\n",
    "        print(\"is deviceble whit 5 and not evan\" )"
   ],
   "outputs": [],
   "metadata": {}
  },
  {
   "cell_type": "code",
   "execution_count": null,
   "source": [
    "wight = float(input(\"wight of luggage: \"))\r\n",
    "lenght = float(input(\"input lenght: \"))\r\n",
    "width = float(input(\"Input width: \"))\r\n",
    "heigt = float(input(\"input height: \"))\r\n",
    "\r\n",
    "if wight <= 8 and lenght <= 55 and wight <= 40 and heigt <= 23 :\r\n",
    "    print(\"the luggage is allowed\")\r\n",
    "else:\r\n",
    "    print(\"luggage is not allowed\")\r\n",
    "\r\n",
    "\r\n",
    "\r\n"
   ],
   "outputs": [],
   "metadata": {}
  },
  {
   "cell_type": "markdown",
   "source": [
    "## While statment exercises "
   ],
   "metadata": {}
  },
  {
   "cell_type": "code",
   "execution_count": null,
   "source": [
    "n= -10\r\n",
    "\r\n",
    "while True:\r\n",
    "    \r\n",
    "    if n !=10:\r\n",
    "        n = n + 1\r\n",
    "        print(f\"{n}\")\r\n",
    "    else:\r\n",
    "        break\r\n",
    "        \r\n",
    "        \r\n",
    "\r\n",
    "    "
   ],
   "outputs": [],
   "metadata": {}
  },
  {
   "cell_type": "code",
   "execution_count": null,
   "source": [
    "n = 0\r\n",
    "number = 1\r\n",
    "number3 = 0\r\n",
    "\r\n",
    "while n != 100:\r\n",
    "        n = n + 1\r\n",
    "\r\n",
    "        number = number + 1\r\n",
    "        number3 = number + number3\r\n",
    "        \r\n",
    "\r\n",
    "print(f\"{number3}\")"
   ],
   "outputs": [],
   "metadata": {}
  },
  {
   "cell_type": "code",
   "execution_count": null,
   "source": [
    "import random as rnd\r\n",
    "\r\n",
    "number1 =rnd.randint(1,100)\r\n",
    "while True:\r\n",
    "    uawnser = int(input(\"guess nummber: \"))\r\n",
    "    if uawnser == number1:\r\n",
    "        print(\"Correct\")\r\n",
    "        break\r\n",
    "    else:\r\n",
    "        \r\n",
    "        if uawnser>number1:\r\n",
    "            print (\"lower\")\r\n",
    "        elif uawnser<number1:\r\n",
    "            print(\"Higer\")"
   ],
   "outputs": [],
   "metadata": {}
  },
  {
   "cell_type": "code",
   "execution_count": null,
   "source": [
    "import random as rnd\r\n",
    "\r\n",
    "amounts_of_times = 0\r\n",
    "counter = 1\r\n",
    "Num_of_tries = int(input(\"Välj antal gånger du vill köra simulationen\"))\r\n",
    "\r\n",
    "while amounts_of_times < Num_of_tries:\r\n",
    "    number1 = rnd.randint(1,100)\r\n",
    "    x = \"x\"\r\n",
    "    High = 100\r\n",
    "    Low = 1\r\n",
    "\r\n",
    "\r\n",
    "\r\n",
    "\r\n",
    "    while True:\r\n",
    "        if x == \"x\":\r\n",
    "            uanswer = rnd.randint(1,100)\r\n",
    "            print(uanswer)\r\n",
    "        else:\r\n",
    "                if x == \"lower\":\r\n",
    "                    High = uanswer\r\n",
    "                    uanswer = int((High-Low)/2 + Low)\r\n",
    "                    counter = counter +1\r\n",
    "                    print(uanswer)\r\n",
    "                elif x == \"higher\":\r\n",
    "                    \r\n",
    "                    \r\n",
    "                    if uanswer == 99:\r\n",
    "                        uanswer = uanswer + 1\r\n",
    "                    else:\r\n",
    "                        Low = uanswer\r\n",
    "                        uanswer = int((High-Low)/2 + Low)\r\n",
    "                        counter = counter +1\r\n",
    "                        print(uanswer)\r\n",
    "        if uanswer == number1:\r\n",
    "                            print(\"Correct\")\r\n",
    "                            amounts_of_times = amounts_of_times +1\r\n",
    "                            break\r\n",
    "        else:\r\n",
    "                if uanswer > number1:\r\n",
    "                                print(\"lower\")\r\n",
    "                                x = \"lower\"\r\n",
    "                elif uanswer < number1: \r\n",
    "                                    print(\"higher\")\r\n",
    "                                    x = \"higher\"\r\n",
    "\r\n",
    "print(f\"Average amount of guesses:{counter/Num_of_tries}\")"
   ],
   "outputs": [],
   "metadata": {}
  },
  {
   "cell_type": "code",
   "execution_count": null,
   "source": [
    "import random as rnd\r\n",
    "\r\n",
    "while True:\r\n",
    "\r\n",
    "    x = rnd.randint(1,10)\r\n",
    "    y = rnd.randint(1,10)\r\n",
    "\r\n",
    "    n = int(input(f\"whats {x} times {y}\"))\r\n",
    "    \r\n",
    "\r\n",
    "\r\n",
    "    if n == x*y:\r\n",
    "        print(\"correct\")\r\n",
    "    \r\n",
    "    else:\r\n",
    "        print(f\"incorect. {x*y} is the corect awnser\")\r\n",
    "\r\n",
    "    \r\n",
    "\r\n",
    "    a = input(\"enter yes or no\")\r\n",
    "\r\n",
    "    if a == \"yes\":\r\n",
    "        print(\"thanks for playing\")\r\n",
    "    elif a== \"no\":\r\n",
    "        print (\"Thanks for playing\")\r\n",
    "        break   \r\n",
    "    else:\r\n",
    "        print(\"yes or NoOOOOOO\")\r\n",
    "\r\n",
    "    \r\n",
    "\r\n",
    "    \r\n",
    "\r\n",
    "\r\n",
    "    "
   ],
   "outputs": [],
   "metadata": {}
  },
  {
   "cell_type": "markdown",
   "source": [
    "## For statment\r\n"
   ],
   "metadata": {}
  },
  {
   "cell_type": "code",
   "execution_count": null,
   "source": [
    "\r\n",
    "\r\n",
    "for i in range (21):\r\n",
    "    i += -10\r\n",
    "    print(i, end=\" \")\r\n",
    "\r\n"
   ],
   "outputs": [],
   "metadata": {}
  },
  {
   "cell_type": "code",
   "execution_count": null,
   "source": [
    "\r\n",
    "\r\n",
    "for i in range(0,21,2):\r\n",
    "    i += -10     \r\n",
    "    print(i, end=\" \")\r\n"
   ],
   "outputs": [],
   "metadata": {}
  },
  {
   "cell_type": "code",
   "execution_count": null,
   "source": [
    "sum = 1\r\n",
    "for i in range(1,102):\r\n",
    "    sum += i    \r\n",
    "    print(sum, end=\" \")"
   ],
   "outputs": [],
   "metadata": {}
  },
  {
   "cell_type": "code",
   "execution_count": null,
   "source": [
    "sum = 1\r\n",
    "for i in range(1,102,2):\r\n",
    "    sum += i    \r\n",
    "    print(sum, end=\" \")"
   ],
   "outputs": [],
   "metadata": {}
  },
  {
   "cell_type": "code",
   "execution_count": null,
   "source": [
    "for i in range (0,11):\r\n",
    "    i *= 6\r\n",
    "    print(i, end=\" \")"
   ],
   "outputs": [],
   "metadata": {}
  },
  {
   "cell_type": "code",
   "execution_count": null,
   "source": [
    "n = int(input(\"what table do you want\"))\r\n",
    "n1 = int(input(\"where do you want to start\"))\r\n",
    "n2 = int(input(\"where do you want to end\"))\r\n",
    "\r\n",
    "for i in range (n1,n2):\r\n",
    "    i *= n\r\n",
    "    print(i, end=\" \")"
   ],
   "outputs": [],
   "metadata": {}
  },
  {
   "cell_type": "code",
   "execution_count": null,
   "source": [
    "\r\n",
    "for n in range(1,11):\r\n",
    "\r\n",
    "    for i in range (1,11):\r\n",
    "        i *= n\r\n",
    "        print(f\"{i :5}\", end=\"\")\r\n",
    "    print()"
   ],
   "outputs": [],
   "metadata": {}
  },
  {
   "cell_type": "code",
   "execution_count": null,
   "source": [
    "n = int(input(\"define n\"))\r\n",
    "\r\n",
    "for i in range(n):\r\n",
    "    i=(n-1)*n\r\n",
    "print(i)"
   ],
   "outputs": [],
   "metadata": {}
  },
  {
   "cell_type": "code",
   "execution_count": null,
   "source": [
    "import random as rnd\r\n",
    "\r\n",
    "n = rnd.randint(1000,9999)\r\n",
    "\r\n",
    "i = 0\r\n",
    "\r\n",
    "print (n)\r\n",
    "\r\n",
    "for i in range (1000,9999):\r\n",
    "        i += 1\r\n",
    "        if i == n:\r\n",
    "            print(i)\r\n",
    "            break\r\n",
    "            \r\n",
    "        \r\n",
    "  \r\n"
   ],
   "outputs": [],
   "metadata": {}
  },
  {
   "cell_type": "code",
   "execution_count": null,
   "source": [
    "n = 1\r\n",
    "n2 = 1\r\n",
    "print(n)\r\n",
    "for i in range(2,65):\r\n",
    "    n *= 2\r\n",
    "    n2 += n\r\n",
    "    print(n)\r\n",
    "print(n2)"
   ],
   "outputs": [],
   "metadata": {}
  },
  {
   "cell_type": "code",
   "execution_count": null,
   "source": [
    "sum_ = 0\r\n",
    "for i in range(0,64):\r\n",
    "    sum_ += 2**i\r\n",
    "\r\n",
    "print(sum_)"
   ],
   "outputs": [],
   "metadata": {}
  },
  {
   "cell_type": "markdown",
   "source": [
    "## list"
   ],
   "metadata": {}
  },
  {
   "cell_type": "code",
   "execution_count": null,
   "source": [
    "import random as rnd\r\n",
    "dices = [rnd.randint(1,6) for i in range(10)]\r\n",
    "print(dices)\r\n",
    "dices.sort()\r\n",
    "print(dices)\r\n",
    "dices.sort(reverse = True)\r\n",
    "print(dices)\r\n",
    "print(max(dices))\r\n",
    "print(min(dices))"
   ],
   "outputs": [],
   "metadata": {}
  },
  {
   "cell_type": "code",
   "execution_count": null,
   "source": [
    "weeek = [\"Monday\", \"Thuseday\", \"Wednesday\", \"Thursday\", \"Friday\", \"Saturday\"]\r\n",
    "Foodwe = [\"vegetarisk\", \"lasagne\", \"spaghetti\", \"fisk\", \"grönsakssoppa\", \"pannkakor\"]\r\n",
    "\r\n",
    "for weeek, Foodwe in zip(weeek, Foodwe)  :\r\n",
    "    print(f\"{weeek}: {Foodwe}\")\r\n",
    "    \r\n",
    "\r\n",
    "\r\n",
    "\r\n"
   ],
   "outputs": [],
   "metadata": {}
  },
  {
   "cell_type": "code",
   "execution_count": null,
   "source": [
    "LIstC = [\"a\", \"b\", \"c\", \"d\", \"e\", \"f\", \"g\", \"h\"]\r\n",
    "\r\n",
    "\r\n",
    "[[f\"{char}{i}\" for char in LIstC] for i in range(1,9)]"
   ],
   "outputs": [],
   "metadata": {}
  },
  {
   "cell_type": "code",
   "execution_count": null,
   "source": [
    "import random as rnd\r\n",
    "dices = [rnd.randint(1,6) for i in range(10000)]\r\n",
    "sixdaice = dices.count(6)\r\n",
    "\r\n",
    "\r\n",
    "\r\n",
    "print(sixdaice)\r\n",
    "print(max(dices))\r\n",
    "print(10000/sixdaice)"
   ],
   "outputs": [],
   "metadata": {}
  },
  {
   "cell_type": "markdown",
   "source": [
    "## strings exercises"
   ],
   "metadata": {}
  },
  {
   "cell_type": "code",
   "execution_count": null,
   "source": [
    "letters = (\"Cakes are so Good, and Tastey\")\r\n",
    "len(letters)\r\n",
    "\r\n",
    "print(\"capital leters:\", sum(1 for i in letters if i.isupper()))\r\n",
    "print(\"lower leters:\", sum(1 for i in letters if i.islower()))"
   ],
   "outputs": [],
   "metadata": {}
  },
  {
   "cell_type": "code",
   "execution_count": null,
   "source": [
    "word = \"A picture says more than a thousand words, a matematical formula says more than a thousand pictures.\" .split()\r\n",
    "print(len(word))\r\n"
   ],
   "outputs": [],
   "metadata": {}
  },
  {
   "cell_type": "code",
   "execution_count": null,
   "source": [
    "palendrom = input(\"is the word a palendrom: \") .join(\" \")\r\n",
    "if palendrom == palendrom[::-1]:\r\n",
    "    print(\"yes\")\r\n",
    "else:\r\n",
    "    print(\"no\")"
   ],
   "outputs": [],
   "metadata": {}
  },
  {
   "cell_type": "code",
   "execution_count": 60,
   "source": [
    "vows = \"Pure mathematics is, in its way, the poetry of logical ideas\"\r\n",
    "lower = vows.lower()\r\n",
    "vowel_counts = {}\r\n",
    "\r\n",
    "for vowel in \"aeiouy\":\r\n",
    "    count = lower.count(vowel)\r\n",
    "    vowel_counts[vowel] = count\r\n",
    "\r\n",
    "count = vowel_counts.values()\r\n",
    "\r\n",
    "total = sum(count)\r\n",
    "print(total)"
   ],
   "outputs": [
    {
     "output_type": "stream",
     "name": "stdout",
     "text": [
      "22\n"
     ]
    }
   ],
   "metadata": {}
  },
  {
   "cell_type": "code",
   "execution_count": null,
   "source": [
    "import re\r\n",
    "code = input(\"Code or decode: c/d \")\r\n",
    "\r\n",
    "if code == \"c\":\r\n",
    "    cat = input(\"what code: \")\r\n",
    "    fun = re.sub('[a-z]',lambda x:chr(ord(x.group(0))+1), cat)\r\n",
    "    print(fun)\r\n",
    "else:\r\n",
    "    cat = input(\"Decode: \")\r\n",
    "    fun = re.sub('[a-z]',lambda x:chr(ord(x.group(0))-1), cat)\r\n",
    "    print(fun)"
   ],
   "outputs": [],
   "metadata": {}
  },
  {
   "cell_type": "markdown",
   "source": [
    "## functions"
   ],
   "metadata": {}
  },
  {
   "cell_type": "code",
   "execution_count": null,
   "source": [
    "\r\n",
    "\r\n",
    "def triangle_area(base, height): \r\n",
    "\r\n",
    "    return base*height/2\r\n",
    "\r\n",
    "turn  = int(input())\r\n",
    "turn2 = int(input())\r\n",
    "triangle1_area = triangle_area(turn, turn2)\r\n",
    "\r\n",
    "\r\n",
    "print(triangle1_area)"
   ],
   "outputs": [],
   "metadata": {}
  },
  {
   "cell_type": "code",
   "execution_count": null,
   "source": [
    "import math\r\n",
    "\r\n",
    "\r\n",
    "def triangle5_area(x1, x2, y1, y2): \r\n",
    "\r\n",
    "    return math.sqrt((x1-x2)**2 + (y1-y2)**2)\r\n",
    "\r\n",
    "\r\n",
    "turn  = int(input())\r\n",
    "turn2 = int(input())\r\n",
    "turn3 = int(input())\r\n",
    "turn4 = int(input())\r\n",
    "triangle1_area = triangle5_area (turn, turn2, turn3, turn4)\r\n",
    "\r\n",
    "print(triangle1_area)"
   ],
   "outputs": [],
   "metadata": {}
  },
  {
   "cell_type": "code",
   "execution_count": null,
   "source": [
    "##import numpy as np\r\n",
    "import matplotlib.pyplot as plt\r\n",
    "\r\n",
    "##x = np.linspace(-10,10)\r\n",
    "g_list = []\r\n",
    "f_list = []\r\n",
    "\r\n",
    "graphf = lambda x: (x**2)-3\r\n",
    "graphg = lambda x: (x*4)-7\r\n",
    "\r\n",
    "for x in range(-10,11):\r\n",
    "    g_list.append(graphg(x))\r\n",
    "    f_list.append(graphf(x))\r\n",
    "    \r\n",
    "\r\n",
    "print(f\"graphf: {f_list}\")\r\n",
    "print(f\"graphg: {g_list}\")\r\n",
    "\r\n",
    "plt.plot(g_list)\r\n",
    "plt.plot(f_list)\r\n"
   ],
   "outputs": [],
   "metadata": {}
  },
  {
   "cell_type": "code",
   "execution_count": 66,
   "source": [
    "print(\"  MaRcUs \", \" iDA aNderSon\", \"OLOF Olofsson            \", text =\" \".split(). )"
   ],
   "outputs": [
    {
     "output_type": "stream",
     "name": "stdout",
     "text": [
      "None\n"
     ]
    }
   ],
   "metadata": {}
  },
  {
   "cell_type": "markdown",
   "source": [
    "## Lös error"
   ],
   "metadata": {}
  },
  {
   "cell_type": "code",
   "execution_count": 27,
   "source": [
    "import numpy as np\r\n",
    " \r\n",
    "def distance(x,y):\r\n",
    "    return np.sqrt((x**2) + (y**2))\r\n",
    " \r\n",
    "fun = distance(0.5, 0.5)\r\n",
    "print(f\"distens {fun:.3f}\")"
   ],
   "outputs": [
    {
     "output_type": "stream",
     "name": "stdout",
     "text": [
      "distens 0.707\n"
     ]
    }
   ],
   "metadata": {}
  },
  {
   "cell_type": "code",
   "execution_count": 52,
   "source": [
    "def is_fourdigit(number):\r\n",
    "    if number >= 1000 and number <= 9999 or number <= -1000 and number >= -9999:\r\n",
    "        return True\r\n",
    "    else:\r\n",
    "        return False\r\n",
    "    \r\n",
    "\r\n",
    " \r\n",
    "# test program\r\n",
    "test_numbers = [231, 3124, -4124, -1000,-999, 1001, 10000, -10000, 999]\r\n",
    " \r\n",
    "for number in test_numbers:\r\n",
    "    if is_fourdigit(number):\r\n",
    "        print(f\"{number} is four-digit\")\r\n",
    "    else:\r\n",
    "        print(f\"{number} is not four-digit\")"
   ],
   "outputs": [
    {
     "output_type": "stream",
     "name": "stdout",
     "text": [
      "231 is not four-digit\n",
      "3124 is four-digit\n",
      "-4124 is four-digit\n",
      "-1000 is four-digit\n",
      "-999 is not four-digit\n",
      "1001 is four-digit\n",
      "10000 is not four-digit\n",
      "-10000 is not four-digit\n",
      "999 is not four-digit\n"
     ]
    }
   ],
   "metadata": {}
  }
 ],
 "metadata": {
  "orig_nbformat": 4,
  "language_info": {
   "name": "python",
   "version": "3.9.6",
   "mimetype": "text/x-python",
   "codemirror_mode": {
    "name": "ipython",
    "version": 3
   },
   "pygments_lexer": "ipython3",
   "nbconvert_exporter": "python",
   "file_extension": ".py"
  },
  "kernelspec": {
   "name": "python3",
   "display_name": "Python 3.9.6 64-bit ('pythonkurs-s4IvoQ70': pipenv)"
  },
  "interpreter": {
   "hash": "7844dc0ca27035570736aba6023ffa7617d905d828b6f4d4bd04534e2d076ee8"
  }
 },
 "nbformat": 4,
 "nbformat_minor": 2
}
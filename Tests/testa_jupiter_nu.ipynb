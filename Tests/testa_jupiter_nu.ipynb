{
 "cells": [
  {
   "cell_type": "code",
   "execution_count": 1,
   "source": [
    "print(\"hello\")"
   ],
   "outputs": [
    {
     "output_type": "stream",
     "name": "stdout",
     "text": [
      "hello\n"
     ]
    }
   ],
   "metadata": {}
  },
  {
   "cell_type": "code",
   "execution_count": 2,
   "source": [
    "56*2"
   ],
   "outputs": [
    {
     "output_type": "execute_result",
     "data": {
      "text/plain": [
       "112"
      ]
     },
     "metadata": {},
     "execution_count": 2
    }
   ],
   "metadata": {}
  },
  {
   "cell_type": "code",
   "execution_count": 2,
   "source": [
    "input_string = input('Enter numbers separated by space ')\r\n",
    "print(\"\\n\")\r\n",
    "# Take input numbers into list\r\n",
    "numbers = input_string.split()\r\n",
    "\r\n",
    "# convert each item to int type\r\n",
    "for i in range(len(numbers)):\r\n",
    "    # convert each item to int type\r\n",
    "    numbers[i] = int(numbers[i])\r\n",
    "\r\n",
    "# Calculating the sum and average\r\n",
    "print(\"Sum = \", sum(numbers))\r\n",
    "print(\"Average = \", sum(numbers) / len(numbers))\r\n"
   ],
   "outputs": [
    {
     "output_type": "stream",
     "name": "stdout",
     "text": [
      "\n",
      "\n",
      "Sum =  13\n",
      "Average =  4.333333333333333\n"
     ]
    }
   ],
   "metadata": {}
  },
  {
   "cell_type": "markdown",
   "source": [
    "import sys\r\n",
    "    sys.path.append(\"C:\\Users\\Radioactiveapple\\Documents\\GitHub\\pythonkurs\\Code-Along\\6.functions\")\r\n",
    "import gemetric.py\r\n"
   ],
   "metadata": {}
  }
 ],
 "metadata": {
  "orig_nbformat": 4,
  "language_info": {
   "name": "python",
   "version": "3.9.6",
   "mimetype": "text/x-python",
   "codemirror_mode": {
    "name": "ipython",
    "version": 3
   },
   "pygments_lexer": "ipython3",
   "nbconvert_exporter": "python",
   "file_extension": ".py"
  },
  "kernelspec": {
   "name": "python3",
   "display_name": "Python 3.9.6 64-bit ('pythonkurs-s4IvoQ70': pipenv)"
  },
  "interpreter": {
   "hash": "7844dc0ca27035570736aba6023ffa7617d905d828b6f4d4bd04534e2d076ee8"
  }
 },
 "nbformat": 4,
 "nbformat_minor": 2
}
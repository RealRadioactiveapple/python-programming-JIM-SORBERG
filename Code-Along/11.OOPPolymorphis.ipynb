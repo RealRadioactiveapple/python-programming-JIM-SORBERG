{
 "cells": [
  {
   "cell_type": "markdown",
   "source": [
    "# OOP Polymorphis\r\n",
    "\r\n",
    "- methods and operatares can be used in different wats for different types\r\n"
   ],
   "metadata": {}
  },
  {
   "cell_type": "code",
   "execution_count": 3,
   "source": [
    "s1 = \"abc\"\r\n",
    "l1 = [1,2,3,4]\r\n",
    "print(len(s1))\r\n",
    "print(len(l1))\r\n",
    "\r\n",
    "s2 = s1 + \"5\" # + operater makes string concatenation\r\n",
    "print(s2)\r\n",
    "\r\n",
    "num1 = 5 + 6 # + operater makes arithmetic addition of two intergers"
   ],
   "outputs": [
    {
     "output_type": "stream",
     "name": "stdout",
     "text": [
      "3\n",
      "4\n",
      "abc5\n"
     ]
    }
   ],
   "metadata": {}
  },
  {
   "cell_type": "code",
   "execution_count": 6,
   "source": [
    "class Fish:\r\n",
    "    def __init__(self,name) -> None:\r\n",
    "        self.name = name\r\n",
    "    \r\n",
    "    def __str__(self) -> str:\r\n",
    "        return f\"im a fish my name is {self.name}\"\r\n",
    "\r\n",
    "    def speak(self):\r\n",
    "        print(\"blupp blupp\")\r\n",
    "    \r\n",
    "class Fox:\r\n",
    "    def __init__(self, name) -> None:\r\n",
    "        self.name = name\r\n",
    "    def __str__(self) -> str:\r\n",
    "        return f\"Im a fox, my name is {self.name}\"\r\n",
    "\r\n",
    "    def speak (self):\r\n",
    "        return NotImplemented\r\n",
    "\r\n",
    "\r\n",
    "animals = (Fish(\"wanda\"),Fox(\"ylios\"))\r\n",
    "\r\n",
    "for animal in animals:\r\n",
    "    print(animal)\r\n",
    "    animal.speak()"
   ],
   "outputs": [
    {
     "output_type": "stream",
     "name": "stdout",
     "text": [
      "im a fish my name is wanda\n",
      "blupp blupp\n",
      "Im a fox, my name is ylios\n"
     ]
    }
   ],
   "metadata": {}
  },
  {
   "cell_type": "markdown",
   "source": [
    "## Polymorphism in inheritance"
   ],
   "metadata": {}
  },
  {
   "cell_type": "code",
   "execution_count": 7,
   "source": [
    "class Animal:\r\n",
    "    def speak(self):\r\n",
    "        print(\"hello im animal\")\r\n",
    "\r\n",
    "\r\n",
    "class Fish(Animal):\r\n",
    "    def __init__(self,name) -> None:\r\n",
    "        self.name = name\r\n",
    "    \r\n",
    "    def __str__(self) -> str:\r\n",
    "        return f\"im a fish my name is {self.name}\"\r\n",
    "\r\n",
    "    def speak(self):\r\n",
    "        print(\"blupp blupp\")\r\n",
    "    \r\n",
    "class Fox(Animal):#fox extends or inherits form animal\r\n",
    "    def __init__(self, name) -> None:\r\n",
    "        self.name = name\r\n",
    "    def __str__(self) -> str:\r\n",
    "        return f\"Im a fox, my name is {self.name}\"\r\n",
    "\r\n",
    "    #def speak (self):\r\n",
    "       # return NotImplemented\r\n",
    "\r\n",
    "\r\n",
    "animals = (Fish(\"wanda\"),Fox(\"ylios\"))\r\n",
    "\r\n",
    "for animal in animals:\r\n",
    "    print(animal)\r\n",
    "    animal.speak()"
   ],
   "outputs": [
    {
     "output_type": "stream",
     "name": "stdout",
     "text": [
      "im a fish my name is wanda\n",
      "blupp blupp\n",
      "Im a fox, my name is ylios\n",
      "hello im animal\n"
     ]
    }
   ],
   "metadata": {}
  },
  {
   "cell_type": "markdown",
   "source": [
    "## operator overloading\r\n",
    "\r\n",
    "- +,-,/,//, % **, <, <=,..\r\n",
    "- see vector example\r\n"
   ],
   "metadata": {}
  },
  {
   "cell_type": "code",
   "execution_count": null,
   "source": [],
   "outputs": [],
   "metadata": {}
  }
 ],
 "metadata": {
  "orig_nbformat": 4,
  "language_info": {
   "name": "python",
   "version": "3.9.6",
   "mimetype": "text/x-python",
   "codemirror_mode": {
    "name": "ipython",
    "version": 3
   },
   "pygments_lexer": "ipython3",
   "nbconvert_exporter": "python",
   "file_extension": ".py"
  },
  "kernelspec": {
   "name": "python3",
   "display_name": "Python 3.9.6 64-bit ('pythonkurs-s4IvoQ70': pipenv)"
  },
  "interpreter": {
   "hash": "7844dc0ca27035570736aba6023ffa7617d905d828b6f4d4bd04534e2d076ee8"
  }
 },
 "nbformat": 4,
 "nbformat_minor": 2
}
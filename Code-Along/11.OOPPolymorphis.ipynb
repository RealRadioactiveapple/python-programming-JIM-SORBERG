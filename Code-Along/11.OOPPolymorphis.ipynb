{
 "cells": [
  {
   "cell_type": "markdown",
   "metadata": {},
   "source": [
    "# OOP Polymorphis\n",
    "\n",
    "- methods and operatares can be used in different wats for different types\n"
   ]
  },
  {
   "cell_type": "code",
   "execution_count": 3,
   "metadata": {},
   "outputs": [
    {
     "name": "stdout",
     "output_type": "stream",
     "text": [
      "3\n",
      "4\n",
      "abc5\n"
     ]
    }
   ],
   "source": [
    "s1 = \"abc\"\n",
    "l1 = [1,2,3,4]\n",
    "print(len(s1))\n",
    "print(len(l1))\n",
    "\n",
    "s2 = s1 + \"5\" # + operater makes string concatenation\n",
    "print(s2)\n",
    "\n",
    "num1 = 5 + 6 # + operater makes arithmetic addition of two intergers"
   ]
  },
  {
   "cell_type": "code",
   "execution_count": 6,
   "metadata": {},
   "outputs": [
    {
     "name": "stdout",
     "output_type": "stream",
     "text": [
      "im a fish my name is wanda\n",
      "blupp blupp\n",
      "Im a fox, my name is ylios\n"
     ]
    }
   ],
   "source": [
    "class Fish:\n",
    "    def __init__(self,name) -> None:\n",
    "        self.name = name\n",
    "    \n",
    "    def __str__(self) -> str:\n",
    "        return f\"im a fish my name is {self.name}\"\n",
    "\n",
    "    def speak(self):\n",
    "        print(\"blupp blupp\")\n",
    "    \n",
    "class Fox:\n",
    "    def __init__(self, name) -> None:\n",
    "        self.name = name\n",
    "    def __str__(self) -> str:\n",
    "        return f\"Im a fox, my name is {self.name}\"\n",
    "\n",
    "    def speak (self):\n",
    "        return NotImplemented\n",
    "\n",
    "\n",
    "animals = (Fish(\"wanda\"),Fox(\"ylios\"))\n",
    "\n",
    "for animal in animals:\n",
    "    print(animal)\n",
    "    animal.speak()"
   ]
  },
  {
   "cell_type": "markdown",
   "metadata": {},
   "source": [
    "## Polymorphism in inheritance"
   ]
  },
  {
   "cell_type": "code",
   "execution_count": 1,
   "metadata": {},
   "outputs": [
    {
     "name": "stdout",
     "output_type": "stream",
     "text": [
      "im a fish my name is wanda\n",
      "blupp blupp\n",
      "Im a fox, my name is ylios\n",
      "hello im animal\n"
     ]
    }
   ],
   "source": [
    "class Animal:\n",
    "    def speak(self):\n",
    "        print(\"hello im animal\")\n",
    "\n",
    "\n",
    "class Fish(Animal):\n",
    "    def __init__(self,name) -> None:\n",
    "        self.name = name\n",
    "    \n",
    "    def __str__(self) -> str:\n",
    "        return f\"im a fish my name is {self.name}\"\n",
    "\n",
    "    def speak(self):\n",
    "        print(\"blupp blupp\")\n",
    "    \n",
    "class Fox(Animal):#fox extends or inherits form animal\n",
    "    def __init__(self, name) -> None:\n",
    "        self.name = name\n",
    "    def __str__(self) -> str:\n",
    "        return f\"Im a fox, my name is {self.name}\"\n",
    "\n",
    "    #def speak (self):\n",
    "       # return NotImplemented\n",
    "\n",
    "\n",
    "animals = (Fish(\"wanda\"),Fox(\"ylios\"))\n",
    "\n",
    "for animal in animals:\n",
    "    print(animal)\n",
    "    animal.speak()"
   ]
  },
  {
   "cell_type": "markdown",
   "metadata": {},
   "source": [
    "## operator overloading\n",
    "\n",
    "- +,-,/,//, % **, <, <=,..\n",
    "- see vector example\n"
   ]
  },
  {
   "cell_type": "code",
   "execution_count": null,
   "metadata": {},
   "outputs": [],
   "source": []
  }
 ],
 "metadata": {
  "interpreter": {
   "hash": "7844dc0ca27035570736aba6023ffa7617d905d828b6f4d4bd04534e2d076ee8"
  },
  "kernelspec": {
   "display_name": "Python 3.9.6 64-bit ('pythonkurs-s4IvoQ70': pipenv)",
   "name": "python3"
  },
  "language_info": {
   "codemirror_mode": {
    "name": "ipython",
    "version": 3
   },
   "file_extension": ".py",
   "mimetype": "text/x-python",
   "name": "python",
   "nbconvert_exporter": "python",
   "pygments_lexer": "ipython3",
   "version": "3.9.6"
  },
  "orig_nbformat": 4
 },
 "nbformat": 4,
 "nbformat_minor": 2
}

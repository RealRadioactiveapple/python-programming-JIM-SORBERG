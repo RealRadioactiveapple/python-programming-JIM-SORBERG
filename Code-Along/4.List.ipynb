{
 "cells": [
  {
   "cell_type": "code",
   "execution_count": 4,
   "source": [
    "tv_shows = [\"antikrundan\",\"mästerkockarna\", \"raport\", \"aktuellt\"]\r\n",
    "\r\n",
    "print(f\"tv_shows[0]: {tv_shows[0]}\")\r\n",
    "print(f\"tv_shows[1]: {tv_shows[1]}\")\r\n",
    "print(f\"tv_shows[-1]: {tv_shows[-1]}\")\r\n",
    "\r\n",
    "#slice operator\r\n",
    "print((f\"tv_shows[:]: {tv_shows[:]}\"))\r\n",
    "print(f\"tv_shows[1:]: {tv_shows[1:]}\")\r\n",
    "print(f\"tv_shows[1:3]: {tv_shows[1:3]}\")#note [start:end-1]\r\n",
    "print(f\"tv_shows[::-1]: {tv_shows[::-1]}\") #[start:end:step]\r\n",
    "\r\n",
    "\r\n",
    "#change list\r\n",
    "tv_shows.append(\"go kväll\")\r\n",
    "print(tv_shows)\r\n",
    "\r\n",
    "\r\n",
    "print (\"tv\")\r\n",
    "for i, tv_shows in enumerate (tv_shows):\r\n",
    "    print(f\"{i}: {tv_shows}\")"
   ],
   "outputs": [
    {
     "output_type": "stream",
     "name": "stdout",
     "text": [
      "tv_shows[0]: antikrundan\n",
      "tv_shows[1]: mästerkockarna\n",
      "tv_shows[-1]: aktuellt\n",
      "tv_shows[:]: ['antikrundan', 'mästerkockarna', 'raport', 'aktuellt']\n",
      "tv_shows[1:]: ['mästerkockarna', 'raport', 'aktuellt']\n",
      "tv_shows[1:3]: ['mästerkockarna', 'raport']\n",
      "tv_shows[::-1]: ['aktuellt', 'raport', 'mästerkockarna', 'antikrundan']\n",
      "['antikrundan', 'mästerkockarna', 'raport', 'aktuellt', 'go kväll']\n",
      "tv\n",
      "0: antikrundan\n",
      "1: mästerkockarna\n",
      "2: raport\n",
      "3: aktuellt\n",
      "4: go kväll\n"
     ]
    }
   ],
   "metadata": {}
  },
  {
   "cell_type": "code",
   "execution_count": 8,
   "source": [
    "#a list of code\r\n",
    "cubes = []\r\n",
    "\r\n",
    "for i in range(10):\r\n",
    "    cubes.append(i**3)\r\n",
    "\r\n",
    "print(cubes)"
   ],
   "outputs": [
    {
     "output_type": "stream",
     "name": "stdout",
     "text": [
      "[0, 1, 8, 27, 64, 125, 216, 343, 512, 729]\n"
     ]
    }
   ],
   "metadata": {}
  },
  {
   "cell_type": "markdown",
   "source": [
    "## List compriensons"
   ],
   "metadata": {}
  },
  {
   "cell_type": "code",
   "execution_count": 5,
   "source": [
    "cubes2 = [x**3 for x in range(10)]\r\n",
    "print(cubes2)"
   ],
   "outputs": [
    {
     "output_type": "stream",
     "name": "stdout",
     "text": [
      "[0, 1, 8, 27, 64, 125, 216, 343, 512, 729]\n"
     ]
    }
   ],
   "metadata": {}
  },
  {
   "cell_type": "code",
   "execution_count": 1,
   "source": [
    "# EVERY EVEN NUMBER - list comp whit if inside\r\n",
    "\r\n",
    "cubes_even = [x**3 for x in range(10) if x%2 == 0]\r\n",
    "print(cubes_even)\r\n",
    "\r\n"
   ],
   "outputs": [
    {
     "output_type": "stream",
     "name": "stdout",
     "text": [
      "[0, 8, 64, 216, 512]\n"
     ]
    }
   ],
   "metadata": {}
  },
  {
   "cell_type": "code",
   "execution_count": 8,
   "source": [
    "import random as rnd\r\n",
    "dices = [rnd.randint(1,6) for i in range(10)]\r\n",
    "print(dices)\r\n",
    "dices.sort()\r\n",
    "print(dices)\r\n",
    "dices.sort(reverse = True)\r\n",
    "print(dices)"
   ],
   "outputs": [
    {
     "output_type": "stream",
     "name": "stdout",
     "text": [
      "[3, 5, 2, 4, 3, 1, 5, 6, 2, 4]\n",
      "[1, 2, 2, 3, 3, 4, 4, 5, 5, 6]\n",
      "[6, 5, 5, 4, 4, 3, 3, 2, 2, 1]\n"
     ]
    }
   ],
   "metadata": {}
  },
  {
   "cell_type": "code",
   "execution_count": 9,
   "source": [
    "exemple_tuple =(1,2,3)\r\n",
    "exemple_tuple [2]=5"
   ],
   "outputs": [
    {
     "output_type": "error",
     "ename": "TypeError",
     "evalue": "'tuple' object does not support item assignment",
     "traceback": [
      "\u001b[1;31m---------------------------------------------------------------------------\u001b[0m",
      "\u001b[1;31mTypeError\u001b[0m                                 Traceback (most recent call last)",
      "\u001b[1;32mC:\\Users\\RADIOA~1\\AppData\\Local\\Temp/ipykernel_13828/1977381022.py\u001b[0m in \u001b[0;36m<module>\u001b[1;34m\u001b[0m\n\u001b[0;32m      1\u001b[0m \u001b[0mexemple_tuple\u001b[0m \u001b[1;33m=\u001b[0m\u001b[1;33m(\u001b[0m\u001b[1;36m1\u001b[0m\u001b[1;33m,\u001b[0m\u001b[1;36m2\u001b[0m\u001b[1;33m,\u001b[0m\u001b[1;36m3\u001b[0m\u001b[1;33m)\u001b[0m\u001b[1;33m\u001b[0m\u001b[1;33m\u001b[0m\u001b[0m\n\u001b[1;32m----> 2\u001b[1;33m \u001b[0mexemple_tuple\u001b[0m \u001b[1;33m[\u001b[0m\u001b[1;36m2\u001b[0m\u001b[1;33m]\u001b[0m\u001b[1;33m=\u001b[0m\u001b[1;36m5\u001b[0m\u001b[1;33m\u001b[0m\u001b[1;33m\u001b[0m\u001b[0m\n\u001b[0m",
      "\u001b[1;31mTypeError\u001b[0m: 'tuple' object does not support item assignment"
     ]
    }
   ],
   "metadata": {}
  },
  {
   "cell_type": "code",
   "execution_count": 13,
   "source": [
    "# list in a list\r\n",
    "grades = [[\"a\", 30],[\"b\", 25],[\"c\",20]]\r\n",
    "print(f\"grades[1]: {grades[1]}\")\r\n",
    "print(f\"grades[1]: betyg {grades[1][0]}\")\r\n"
   ],
   "outputs": [
    {
     "output_type": "stream",
     "name": "stdout",
     "text": [
      "grades[1]: ['b', 25]\n",
      "grades[1]: betyg b\n"
     ]
    }
   ],
   "metadata": {}
  }
 ],
 "metadata": {
  "orig_nbformat": 4,
  "language_info": {
   "name": "python",
   "version": "3.9.6",
   "mimetype": "text/x-python",
   "codemirror_mode": {
    "name": "ipython",
    "version": 3
   },
   "pygments_lexer": "ipython3",
   "nbconvert_exporter": "python",
   "file_extension": ".py"
  },
  "kernelspec": {
   "name": "python3",
   "display_name": "Python 3.9.6 64-bit ('pythonkurs-s4IvoQ70': pipenv)"
  },
  "interpreter": {
   "hash": "7844dc0ca27035570736aba6023ffa7617d905d828b6f4d4bd04534e2d076ee8"
  }
 },
 "nbformat": 4,
 "nbformat_minor": 2
}
{
 "cells": [
  {
   "cell_type": "markdown",
   "source": [
    "# Dictionary\r\n",
    "\r\n",
    "- key:value pair\r\n"
   ],
   "metadata": {}
  },
  {
   "cell_type": "code",
   "execution_count": 3,
   "source": [
    "person = dict(\r\n",
    "\r\n",
    "    name = \"Jim\",\r\n",
    "    age = 30.1,\r\n",
    "    work = \"ai\",\r\n",
    "    intrests = [\"math\",\"fun\"],\r\n",
    "    likes_job = True\r\n",
    "\r\n",
    "\r\n",
    "\r\n",
    "\r\n",
    "\r\n",
    ")\r\n",
    "\r\n",
    "print(f\"{person}\")\r\n",
    "print(f\"{person['name']}\")\r\n",
    "\r\n",
    "for intresest in person[\"intrests\"]:\r\n",
    "    print(f\"{person['name']} likes {intresest}\")"
   ],
   "outputs": [
    {
     "output_type": "stream",
     "name": "stdout",
     "text": [
      "{'name': 'Jim', 'age': 30.1, 'work': 'ai', 'intrests': ['math', 'fun'], 'likes_job': True}\n",
      "Jim\n",
      "Jim likes math\n",
      "Jim likes fun\n"
     ]
    }
   ],
   "metadata": {}
  },
  {
   "cell_type": "code",
   "execution_count": 8,
   "source": [
    "words = {\r\n",
    "    \"data structure\": \"means of storing data\",\r\n",
    "    \"lambda\": \"anonymous function\",\r\n",
    "    \"class\": \"blueprint for objects\"\r\n",
    "\r\n",
    "}\r\n",
    "\r\n",
    "print(\"vi ska lära oss dessa ord\")\r\n",
    "for key in words:\r\n",
    "    print(key, end=\", \") \r\n",
    "print(f\"\\n\\nfun practis {'':<15} awnsers\")\r\n",
    "for key, value in words.items():\r\n",
    "    print(f\"{key:<21} {value}\")\r\n"
   ],
   "outputs": [
    {
     "output_type": "stream",
     "name": "stdout",
     "text": [
      "vi ska lära oss dessa ord\n",
      "data structure, lambda, class, \n",
      "\n",
      "fun practis                 awnsers\n",
      "data structure        means of storing data\n",
      "lambda                anonymous function\n",
      "class                 blueprint for objects\n"
     ]
    }
   ],
   "metadata": {}
  },
  {
   "cell_type": "code",
   "execution_count": 9,
   "source": [
    "words[\"lambda\"] = \"an anynomus \" #overwrites\r\n",
    "words[\"regression\"] = \"find a functions\" #adds more values\r\n",
    "print (words)"
   ],
   "outputs": [
    {
     "output_type": "stream",
     "name": "stdout",
     "text": [
      "{'data structure': 'means of storing data', 'lambda': 'an anynomus ', 'class': 'blueprint for objects', 'regression': 'find a functions'}\n"
     ]
    }
   ],
   "metadata": {}
  },
  {
   "cell_type": "code",
   "execution_count": 14,
   "source": [
    "# f<10, e:10 d:20 c:30 b:40 a:50\r\n",
    "grade_limits= {}\r\n",
    "grades = list(\"abcdef\")\r\n",
    "print(grades) \r\n",
    "\r\n",
    "for i,grade in enumerate(grades[::-1]):\r\n",
    "    grade_limits[grade]= i*10\r\n",
    "\r\n",
    "grade_limits[\"f\"] = \"<10\"\r\n",
    "\r\n",
    "print(grade_limits)\r\n"
   ],
   "outputs": [
    {
     "output_type": "stream",
     "name": "stdout",
     "text": [
      "['a', 'b', 'c', 'd', 'e', 'f']\n",
      "{'f': '<10', 'e': 10, 'd': 20, 'c': 30, 'b': 40, 'a': 50}\n"
     ]
    }
   ],
   "metadata": {}
  },
  {
   "cell_type": "markdown",
   "source": [
    "## Dictionary comprehension"
   ],
   "metadata": {}
  },
  {
   "cell_type": "code",
   "execution_count": 1,
   "source": [
    "import random as rnd\r\n",
    "grade_limits = {grade: i*10 for i, grade in enumerate(\"FEDCBA\")}\r\n",
    "\r\n",
    "print(grade_limits)\r\n",
    "\r\n",
    "def generate_score(number_scores):\r\n",
    "    rnd.seed(42)\r\n",
    "    scores=[rnd.randint(0,60) for _ in range(number_scores)]\r\n",
    "    return scores\r\n",
    "\r\n",
    "scores = generate_score(20)\r\n",
    "print(f\"{scores}\")\r\n",
    "\r\n",
    "grade_count = {key: 0 for key in grade_limits}\r\n",
    "\r\n",
    "for score in scores:\r\n",
    "    for grade, limit in grade_limits.items():\r\n",
    "        if limit >= score < limit +10:\r\n",
    "            grade_count[grade] += 1\r\n",
    "\r\n",
    "print(f\"grade count {grade_count}\")"
   ],
   "outputs": [
    {
     "output_type": "stream",
     "name": "stdout",
     "text": [
      "{'F': 0, 'E': 10, 'D': 20, 'C': 30, 'B': 40, 'A': 50}\n",
      "[40, 7, 1, 47, 17, 15, 14, 8, 47, 6, 43, 47, 57, 34, 5, 37, 27, 2, 1, 5]\n",
      "grade count {'F': 0, 'E': 8, 'D': 11, 'C': 12, 'B': 15, 'A': 19}\n"
     ]
    }
   ],
   "metadata": {}
  }
 ],
 "metadata": {
  "orig_nbformat": 4,
  "language_info": {
   "name": "python",
   "version": "3.9.6",
   "mimetype": "text/x-python",
   "codemirror_mode": {
    "name": "ipython",
    "version": 3
   },
   "pygments_lexer": "ipython3",
   "nbconvert_exporter": "python",
   "file_extension": ".py"
  },
  "kernelspec": {
   "name": "python3",
   "display_name": "Python 3.9.6 64-bit ('pythonkurs-s4IvoQ70': pipenv)"
  },
  "interpreter": {
   "hash": "7844dc0ca27035570736aba6023ffa7617d905d828b6f4d4bd04534e2d076ee8"
  }
 },
 "nbformat": 4,
 "nbformat_minor": 2
}
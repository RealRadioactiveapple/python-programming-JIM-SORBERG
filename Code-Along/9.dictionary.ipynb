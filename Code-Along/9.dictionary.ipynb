{
 "cells": [
  {
   "cell_type": "markdown",
   "metadata": {},
   "source": [
    "# Dictionary\n",
    "\n",
    "- key:value pair\n"
   ]
  },
  {
   "cell_type": "code",
   "execution_count": 1,
   "metadata": {},
   "outputs": [
    {
     "name": "stdout",
     "output_type": "stream",
     "text": [
      "{'name': 'Jim', 'age': 30.1, 'work': 'ai', 'intrests': ['math', 'fun'], 'likes_job': True}\n",
      "Jim\n",
      "Jim likes math\n",
      "Jim likes fun\n"
     ]
    }
   ],
   "source": [
    "person = dict(\n",
    "\n",
    "    name = \"Jim\",\n",
    "    age = 30.1,\n",
    "    work = \"ai\",\n",
    "    intrests = [\"math\",\"fun\"],\n",
    "    likes_job = True\n",
    "\n",
    "\n",
    "\n",
    "\n",
    "\n",
    ")\n",
    "\n",
    "print(f\"{person}\")\n",
    "print(f\"{person['name']}\")\n",
    "\n",
    "for intresest in person[\"intrests\"]:\n",
    "    print(f\"{person['name']} likes {intresest}\")"
   ]
  },
  {
   "cell_type": "code",
   "execution_count": 2,
   "metadata": {},
   "outputs": [
    {
     "name": "stdout",
     "output_type": "stream",
     "text": [
      "vi ska lära oss dessa ord\n",
      "data structure, lambda, class, \n",
      "\n",
      "fun practis                 awnsers\n",
      "data structure        means of storing data\n",
      "lambda                anonymous function\n",
      "class                 blueprint for objects\n"
     ]
    }
   ],
   "source": [
    "words = {\n",
    "    \"data structure\": \"means of storing data\",\n",
    "    \"lambda\": \"anonymous function\",\n",
    "    \"class\": \"blueprint for objects\"\n",
    "\n",
    "}\n",
    "\n",
    "print(\"vi ska lära oss dessa ord\")\n",
    "for key in words:\n",
    "    print(key, end=\", \") \n",
    "print(f\"\\n\\nfun practis {'':<15} awnsers\")\n",
    "for key, value in words.items():\n",
    "    print(f\"{key:<21} {value}\")\n"
   ]
  },
  {
   "cell_type": "code",
   "execution_count": 3,
   "metadata": {},
   "outputs": [
    {
     "name": "stdout",
     "output_type": "stream",
     "text": [
      "{'data structure': 'means of storing data', 'lambda': 'an anynomus ', 'class': 'blueprint for objects', 'regression': 'find a functions'}\n"
     ]
    }
   ],
   "source": [
    "words[\"lambda\"] = \"an anynomus \" #overwrites\n",
    "words[\"regression\"] = \"find a functions\" #adds more values\n",
    "print (words)"
   ]
  },
  {
   "cell_type": "code",
   "execution_count": 4,
   "metadata": {},
   "outputs": [
    {
     "name": "stdout",
     "output_type": "stream",
     "text": [
      "['a', 'b', 'c', 'd', 'e', 'f']\n",
      "{'f': '<10', 'e': 10, 'd': 20, 'c': 30, 'b': 40, 'a': 50}\n"
     ]
    }
   ],
   "source": [
    "# f<10, e:10 d:20 c:30 b:40 a:50\n",
    "grade_limits= {}\n",
    "grades = list(\"abcdef\")\n",
    "print(grades) \n",
    "\n",
    "for i,grade in enumerate(grades[::-1]):\n",
    "    grade_limits[grade]= i*10\n",
    "\n",
    "grade_limits[\"f\"] = \"<10\"\n",
    "\n",
    "print(grade_limits)\n"
   ]
  },
  {
   "cell_type": "markdown",
   "metadata": {},
   "source": [
    "## Dictionary comprehension"
   ]
  },
  {
   "cell_type": "code",
   "execution_count": 5,
   "metadata": {},
   "outputs": [
    {
     "name": "stdout",
     "output_type": "stream",
     "text": [
      "{'F': 0, 'E': 10, 'D': 20, 'C': 30, 'B': 40, 'A': 50}\n",
      "[40, 7, 1, 47, 17, 15, 14, 8, 47, 6, 43, 47, 57, 34, 5, 37, 27, 2, 1, 5]\n",
      "grade count {'F': 0, 'E': 8, 'D': 11, 'C': 12, 'B': 15, 'A': 19}\n"
     ]
    }
   ],
   "source": [
    "import random as rnd\n",
    "grade_limits = {grade: i*10 for i, grade in enumerate(\"FEDCBA\")}\n",
    "\n",
    "print(grade_limits)\n",
    "\n",
    "def generate_score(number_scores):\n",
    "    rnd.seed(42)\n",
    "    scores=[rnd.randint(0,60) for _ in range(number_scores)]\n",
    "    return scores\n",
    "\n",
    "scores = generate_score(20)\n",
    "print(f\"{scores}\")\n",
    "\n",
    "grade_count = {key: 0 for key in grade_limits}\n",
    "\n",
    "for score in scores:\n",
    "    for grade, limit in grade_limits.items():\n",
    "        if limit >= score < limit +10:\n",
    "            grade_count[grade] += 1\n",
    "\n",
    "print(f\"grade count {grade_count}\")"
   ]
  }
 ],
 "metadata": {
  "interpreter": {
   "hash": "7844dc0ca27035570736aba6023ffa7617d905d828b6f4d4bd04534e2d076ee8"
  },
  "kernelspec": {
   "display_name": "Python 3.9.6 64-bit ('pythonkurs-s4IvoQ70': pipenv)",
   "name": "python3"
  },
  "language_info": {
   "codemirror_mode": {
    "name": "ipython",
    "version": 3
   },
   "file_extension": ".py",
   "mimetype": "text/x-python",
   "name": "python",
   "nbconvert_exporter": "python",
   "pygments_lexer": "ipython3",
   "version": "3.9.6"
  },
  "orig_nbformat": 4
 },
 "nbformat": 4,
 "nbformat_minor": 2
}

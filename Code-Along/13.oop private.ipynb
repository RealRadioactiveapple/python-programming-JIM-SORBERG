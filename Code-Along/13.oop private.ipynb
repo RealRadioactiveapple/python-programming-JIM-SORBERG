{
 "cells": [
  {
   "cell_type": "markdown",
   "source": [
    "# Private attributes"
   ],
   "metadata": {}
  },
  {
   "cell_type": "code",
   "execution_count": 9,
   "source": [
    "class Patient:\r\n",
    "    def __init__(self, name, diagnosis) -> None:\r\n",
    "        self._name = name\r\n",
    "        self.__diagnosis = diagnosis\r\n",
    "\r\n",
    "    def __repr__(self) -> str:\r\n",
    "        return f\"Patient {self._name}, {self.__diagnosis}\"\r\n",
    "\r\n",
    "    def __say_hey(self):\r\n",
    "        print(\"hej\")\r\n",
    "\r\n",
    "p1 = (Patient(\"gore board\",\"migraine\"))\r\n",
    "\r\n",
    "print(p1)\r\n",
    "\r\n",
    "#it works, but should not do this\r\n",
    "p1._name = \"gree bree\"\r\n",
    "print(p1)\r\n",
    "# try and change __dianosis\r\n",
    "p1.__diagnosis = \"cold\"\r\n",
    "print(p1)\r\n",
    "\r\n",
    "print(p1.__dict__)\r\n",
    "\r\n",
    "#python dose name mangeling --> changes __diagnosis to  _Patient__diagnosis\r\n",
    "\r\n",
    "p1._Patient__diagnosis = \"fever\"\r\n",
    "print(p1)\r\n",
    "\r\n",
    "print(p1.__dir__())\r\n"
   ],
   "outputs": [
    {
     "output_type": "stream",
     "name": "stdout",
     "text": [
      "Patient gore board, migraine\n",
      "Patient gree bree, migraine\n",
      "Patient gree bree, migraine\n",
      "{'_name': 'gree bree', '_Patient__diagnosis': 'migraine', '__diagnosis': 'cold'}\n",
      "Patient gree bree, fever\n",
      "['_name', '_Patient__diagnosis', '__diagnosis', '__module__', '__init__', '__repr__', '_Patient__say_hey', '__dict__', '__weakref__', '__doc__', '__hash__', '__str__', '__getattribute__', '__setattr__', '__delattr__', '__lt__', '__le__', '__eq__', '__ne__', '__gt__', '__ge__', '__new__', '__reduce_ex__', '__reduce__', '__subclasshook__', '__init_subclass__', '__format__', '__sizeof__', '__dir__', '__class__']\n"
     ]
    }
   ],
   "metadata": {}
  }
 ],
 "metadata": {
  "orig_nbformat": 4,
  "language_info": {
   "name": "python",
   "version": "3.9.6",
   "mimetype": "text/x-python",
   "codemirror_mode": {
    "name": "ipython",
    "version": 3
   },
   "pygments_lexer": "ipython3",
   "nbconvert_exporter": "python",
   "file_extension": ".py"
  },
  "kernelspec": {
   "name": "python3",
   "display_name": "Python 3.9.6 64-bit ('pythonkurs-s4IvoQ70': pipenv)"
  },
  "interpreter": {
   "hash": "7844dc0ca27035570736aba6023ffa7617d905d828b6f4d4bd04534e2d076ee8"
  }
 },
 "nbformat": 4,
 "nbformat_minor": 2
}
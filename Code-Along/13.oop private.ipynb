{
 "cells": [
  {
   "cell_type": "markdown",
   "metadata": {},
   "source": [
    "# Private attributes"
   ]
  },
  {
   "cell_type": "code",
   "execution_count": 9,
   "metadata": {},
   "outputs": [
    {
     "name": "stdout",
     "output_type": "stream",
     "text": [
      "Patient gore board, migraine\n",
      "Patient gree bree, migraine\n",
      "Patient gree bree, migraine\n",
      "{'_name': 'gree bree', '_Patient__diagnosis': 'migraine', '__diagnosis': 'cold'}\n",
      "Patient gree bree, fever\n",
      "['_name', '_Patient__diagnosis', '__diagnosis', '__module__', '__init__', '__repr__', '_Patient__say_hey', '__dict__', '__weakref__', '__doc__', '__hash__', '__str__', '__getattribute__', '__setattr__', '__delattr__', '__lt__', '__le__', '__eq__', '__ne__', '__gt__', '__ge__', '__new__', '__reduce_ex__', '__reduce__', '__subclasshook__', '__init_subclass__', '__format__', '__sizeof__', '__dir__', '__class__']\n"
     ]
    }
   ],
   "source": [
    "class Patient:\n",
    "    def __init__(self, name, diagnosis) -> None:\n",
    "        self._name = name\n",
    "        self.__diagnosis = diagnosis\n",
    "\n",
    "    def __repr__(self) -> str:\n",
    "        return f\"Patient {self._name}, {self.__diagnosis}\"\n",
    "\n",
    "    def __say_hey(self):\n",
    "        print(\"hej\")\n",
    "\n",
    "p1 = (Patient(\"gore board\",\"migraine\"))\n",
    "\n",
    "print(p1)\n",
    "\n",
    "#it works, but should not do this\n",
    "p1._name = \"gree bree\"\n",
    "print(p1)\n",
    "# try and change __dianosis\n",
    "p1.__diagnosis = \"cold\"\n",
    "print(p1)\n",
    "\n",
    "print(p1.__dict__)\n",
    "\n",
    "#python dose name mangeling --> changes __diagnosis to  _Patient__diagnosis\n",
    "\n",
    "p1._Patient__diagnosis = \"fever\"\n",
    "print(p1)\n",
    "\n",
    "print(p1.__dir__())\n"
   ]
  }
 ],
 "metadata": {
  "interpreter": {
   "hash": "7844dc0ca27035570736aba6023ffa7617d905d828b6f4d4bd04534e2d076ee8"
  },
  "kernelspec": {
   "display_name": "Python 3.9.6 64-bit ('pythonkurs-s4IvoQ70': pipenv)",
   "name": "python3"
  },
  "language_info": {
   "codemirror_mode": {
    "name": "ipython",
    "version": 3
   },
   "file_extension": ".py",
   "mimetype": "text/x-python",
   "name": "python",
   "nbconvert_exporter": "python",
   "pygments_lexer": "ipython3",
   "version": "3.9.6"
  },
  "orig_nbformat": 4
 },
 "nbformat": 4,
 "nbformat_minor": 2
}

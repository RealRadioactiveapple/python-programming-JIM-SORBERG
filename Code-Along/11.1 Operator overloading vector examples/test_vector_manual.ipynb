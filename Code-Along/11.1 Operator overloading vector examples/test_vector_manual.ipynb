{
 "cells": [
  {
   "cell_type": "code",
   "execution_count": 4,
   "metadata": {},
   "outputs": [
    {
     "name": "stdout",
     "output_type": "stream",
     "text": [
      "(1.0, 2.0, 1.0)\n",
      "(1.0, 0.0, 5.0)\n",
      "v1 = (1.0, 2.0, 1.0)\n",
      "v2 = (1.0, 1.0, 4.0)\n",
      "v3 = v1 + v2 = (2.0, 3.0, 5.0)\n"
     ]
    },
    {
     "data": {
      "text/plain": [
       "3.0"
      ]
     },
     "execution_count": 4,
     "metadata": {},
     "output_type": "execute_result"
    }
   ],
   "source": [
    "import vector as vec\n",
    "\n",
    "v1 = vec.Vector(1,2,1)\n",
    "v2 = vec.Vector(1,1,4)\n",
    "print(v1.numbers)\n",
    "\n",
    "v_test = vec.Vector(True, False,5)\n",
    "print(v_test.numbers)\n",
    "\n",
    "print(f\"v1 = {v1}\")\n",
    "print(f\"v2 = {v2}\")\n",
    "\n",
    "\n",
    "v3 = v1 + v2\n",
    "\n",
    "print(f\"v3 = v1 + v2 = {v3}\")\n",
    "try:\n",
    "    v3 + v_test\n",
    "except TypeError as err:\n",
    "    print(err)\n",
    "\n",
    "v3 [1]"
   ]
  },
  {
   "cell_type": "code",
   "execution_count": 6,
   "metadata": {},
   "outputs": [
    {
     "name": "stdout",
     "output_type": "stream",
     "text": [
      "len(v1): 2\n",
      "len (v_test): 3\n"
     ]
    }
   ],
   "source": [
    "print (f\"len(v1): {len(v1)}\")\n",
    "print(f\"len (v_test): {len(v_test)}\")"
   ]
  },
  {
   "cell_type": "code",
   "execution_count": 1,
   "metadata": {},
   "outputs": [
    {
     "name": "stdout",
     "output_type": "stream",
     "text": [
      "v1 == v2: True\n",
      "False\n",
      "(0.0, -4.0)\n",
      "(5.0, 5.0)\n",
      "(5.0, 5.0)\n"
     ]
    }
   ],
   "source": [
    "from vector import Vector\n",
    "\n",
    "v1 = Vector(1,1)\n",
    "v2 = Vector(1,1)\n",
    "v3 = Vector(1,5)\n",
    "\n",
    "print(f\"v1 == v2: {v1 == v2}\")\n",
    "print(f\"{v1 == v3}\")\n",
    "print(f\"{v1-v3}\")\n",
    "print(f\"{v1*5}\")\n",
    "print(f\"{5*v1}\")"
   ]
  },
  {
   "cell_type": "code",
   "execution_count": 4,
   "metadata": {},
   "outputs": [
    {
     "data": {
      "image/png": "[encoded data removed]",
      "text/plain": [
       "<Figure size 432x288 with 1 Axes>"
      ]
     },
     "metadata": {
      "needs_background": "light"
     },
     "output_type": "display_data"
    }
   ],
   "source": [
    "v1.plot(v3, v1+v3)"
   ]
  }
 ],
 "metadata": {
  "interpreter": {
   "hash": "7844dc0ca27035570736aba6023ffa7617d905d828b6f4d4bd04534e2d076ee8"
  },
  "kernelspec": {
   "display_name": "Python 3.9.6 64-bit ('pythonkurs-s4IvoQ70': pipenv)",
   "name": "python3"
  },
  "language_info": {
   "codemirror_mode": {
    "name": "ipython",
    "version": 3
   },
   "file_extension": ".py",
   "mimetype": "text/x-python",
   "name": "python",
   "nbconvert_exporter": "python",
   "pygments_lexer": "ipython3",
   "version": "3.9.6"
  },
  "orig_nbformat": 4
 },
 "nbformat": 4,
 "nbformat_minor": 2
}

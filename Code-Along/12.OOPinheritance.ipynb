{
 "cells": [
  {
   "cell_type": "code",
   "execution_count": 3,
   "source": [
    "import oldcoin\r\n",
    "\r\n",
    "class Person:\r\n",
    "    def __init__(self, name, age) -> None:\r\n",
    "        self.age = age \r\n",
    "        self.name = name\r\n",
    "\r\n",
    "    @property\r\n",
    "    def age (self):\r\n",
    "        return self._age   \r\n",
    "    \r\n",
    "    @age.setter\r\n",
    "    def age(self, value):\r\n",
    "        if not isinstance(value, int):\r\n",
    "            raise TypeError(\"must be int\")\r\n",
    "        self._age = value\r\n",
    "\r\n",
    "    def say_hi(self):\r\n",
    "        print(f\"{self.name} says hi\" )\r\n",
    "\r\n",
    "\r\n",
    "class Student(Person):\r\n",
    "    def __init__(self, name, age, language) -> None:\r\n",
    "        super().__init__(name, age)\r\n",
    "        self.language = language\r\n",
    "\r\n",
    "    \r\n",
    "\r\n",
    "    def say_hi(self):\r\n",
    "        print(f\"{self.name} in l {self.language}\")\r\n",
    "\r\n",
    "class Viking(Person):\r\n",
    "    def __init__(self, name, age) -> None:\r\n",
    "        super().__init__(name, age)\r\n",
    "        self.stash = oldcoin.Oldcoinstash(name)\r\n",
    "\r\n",
    "p1 = Person(\"anita\",45)\r\n",
    "\r\n",
    "try:\r\n",
    "    s1 = Student(\"gore\", \"femtio\", \"python\")\r\n",
    "except TypeError as err:\r\n",
    "    print(err)\r\n",
    "\r\n",
    "\r\n",
    "s2 = Student(\"gore\", 50, \"python\")\r\n",
    "v1 = Viking(\"Ragnar\", 50)\r\n",
    "for person in (p1, s2, v1):\r\n",
    "    person.say_hi()\r\n",
    "\r\n",
    "print(v1.stash)\r\n",
    "print(v1.age)"
   ],
   "outputs": [
    {
     "output_type": "stream",
     "name": "stdout",
     "text": [
      "must be int\n",
      "anita says hi\n",
      "gore in l python\n",
      "Ragnar says hi\n",
      "Oldcoinstash(owner = 'Ragnar')\n",
      "50\n"
     ]
    }
   ],
   "metadata": {}
  },
  {
   "cell_type": "code",
   "execution_count": null,
   "source": [
    "\r\n",
    "        "
   ],
   "outputs": [],
   "metadata": {}
  }
 ],
 "metadata": {
  "orig_nbformat": 4,
  "language_info": {
   "name": "python",
   "version": "3.9.6",
   "mimetype": "text/x-python",
   "codemirror_mode": {
    "name": "ipython",
    "version": 3
   },
   "pygments_lexer": "ipython3",
   "nbconvert_exporter": "python",
   "file_extension": ".py"
  },
  "kernelspec": {
   "name": "python3",
   "display_name": "Python 3.9.6 64-bit ('pythonkurs-s4IvoQ70': pipenv)"
  },
  "interpreter": {
   "hash": "7844dc0ca27035570736aba6023ffa7617d905d828b6f4d4bd04534e2d076ee8"
  }
 },
 "nbformat": 4,
 "nbformat_minor": 2
}
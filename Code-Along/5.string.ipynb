{
 "cells": [
  {
   "cell_type": "markdown",
   "source": [
    "# String"
   ],
   "metadata": {}
  },
  {
   "cell_type": "markdown",
   "source": [
    "## concatenating string"
   ],
   "metadata": {}
  },
  {
   "cell_type": "code",
   "execution_count": 2,
   "source": [
    "firstname = \"jim\"\r\n",
    "lastname = \"sorberg\"\r\n",
    "\r\n",
    "#concatenating string\r\n",
    "\r\n",
    "fullname = firstname +  \" \" + lastname\r\n",
    "\r\n",
    "\r\n",
    "school = \"It högskolan\"\r\n",
    "adress = \"Full vägen 13\"\r\n",
    "phone = \"444\"\r\n",
    "print(fullname)\r\n",
    "\r\n",
    "\r\n",
    "#multiline f-string\r\n",
    "\r\n",
    "contact_details = f\"\"\"\r\n",
    "\r\n",
    "Name: {fullname}\r\n",
    "School: {school}\r\n",
    "adress: {adress}\r\n",
    "Phone: {phone}\r\n",
    "\"\"\"\r\n",
    "print(contact_details)\r\n",
    "\r\n",
    "\r\n",
    "\r\n"
   ],
   "outputs": [
    {
     "output_type": "stream",
     "name": "stdout",
     "text": [
      "jim sorberg\n",
      "\n",
      "\n",
      "Name: jim sorberg\n",
      "School: It högskolan\n",
      "adress: Full vägen 13\n",
      "Phone: 444\n",
      "\n"
     ]
    }
   ],
   "metadata": {}
  },
  {
   "cell_type": "markdown",
   "source": [
    "## concatenate whit loop"
   ],
   "metadata": {}
  },
  {
   "cell_type": "code",
   "execution_count": 9,
   "source": [
    "bamba = \"Chili sin carne, köttbullar, fisk, pankakor, taco\".split(\", \")\r\n",
    "days = \"må ti on to fr\".split() #split on def on empty space \" \"\r\n",
    "\r\n",
    "menu = \"vekomeny \\n\"\r\n",
    "\r\n",
    "for day, food in zip(days, bamba):\r\n",
    "    menu += f\"{day}: {food} \\n\"\r\n",
    "\r\n",
    "print(menu)\r\n"
   ],
   "outputs": [
    {
     "output_type": "stream",
     "name": "stdout",
     "text": [
      "vekomeny \n",
      "må: Chili sin carne \n",
      "ti: köttbullar \n",
      "on: fisk \n",
      "to: pankakor \n",
      "fr: taco \n",
      "\n"
     ]
    }
   ],
   "metadata": {}
  },
  {
   "cell_type": "markdown",
   "source": [
    "## Indexing\r\n",
    "\r\n",
    "- indexing whit []operatorn to access elements\r\n",
    "- slicing operator"
   ],
   "metadata": {}
  },
  {
   "cell_type": "code",
   "execution_count": 14,
   "source": [
    "quote = \"!false - it's funny because it's True\" # works\r\n",
    "# quote = '!false - it's funny because it's True' #dont work dosent work becuse of the '\r\n",
    "\r\n",
    "print(f\"quote [0]: {quote[0]}\")\r\n",
    "print(f\"quote [-1]: {quote[-1]}\")\r\n",
    "print(f\"quote [-4:]: {quote[-4:]}\")\r\n",
    "print(f\"quote [1:6]: {quote[1:6]}\") #[start:stop -1]\r\n",
    "print(f\"backwads quote[::-1]: {quote[::-1]}\")\r\n",
    "\r\n"
   ],
   "outputs": [
    {
     "output_type": "stream",
     "name": "stdout",
     "text": [
      "quote [0]: !\n",
      "quote [-1]: e\n",
      "quote [-4:]: True\n",
      "quote [1:6]: false\n",
      "backwads quote[::-1]: eurT s'ti esuaceb ynnuf s'ti - eslaf!\n"
     ]
    }
   ],
   "metadata": {}
  },
  {
   "cell_type": "markdown",
   "source": [
    "# Split string"
   ],
   "metadata": {}
  },
  {
   "cell_type": "code",
   "execution_count": 19,
   "source": [
    "\r\n",
    "numbers = input(\"ange några tal sepererade med mellanslag: \").split()# data type is string\r\n",
    "#numbers = int(input(\"ange några tal sepererade med mellanslag: \")).split()\r\n",
    "\r\n",
    "\r\n",
    "numbers = [float(number)for number in numbers]\r\n",
    "print(numbers)"
   ],
   "outputs": [
    {
     "output_type": "stream",
     "name": "stdout",
     "text": [
      "[5.0, 6.0, 4.0]\n"
     ]
    }
   ],
   "metadata": {}
  }
 ],
 "metadata": {
  "orig_nbformat": 4,
  "language_info": {
   "name": "python",
   "version": "3.9.6",
   "mimetype": "text/x-python",
   "codemirror_mode": {
    "name": "ipython",
    "version": 3
   },
   "pygments_lexer": "ipython3",
   "nbconvert_exporter": "python",
   "file_extension": ".py"
  },
  "kernelspec": {
   "name": "python3",
   "display_name": "Python 3.9.6 64-bit ('pythonkurs-s4IvoQ70': pipenv)"
  },
  "interpreter": {
   "hash": "7844dc0ca27035570736aba6023ffa7617d905d828b6f4d4bd04534e2d076ee8"
  }
 },
 "nbformat": 4,
 "nbformat_minor": 2
}
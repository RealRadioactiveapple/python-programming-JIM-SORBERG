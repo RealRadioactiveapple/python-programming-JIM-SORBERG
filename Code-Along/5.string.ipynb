{
 "cells": [
  {
   "cell_type": "markdown",
   "source": [
    "# String"
   ],
   "metadata": {}
  },
  {
   "cell_type": "markdown",
   "source": [
    "## concatenating string"
   ],
   "metadata": {}
  },
  {
   "cell_type": "code",
   "execution_count": 2,
   "source": [
    "firstname = \"jim\"\r\n",
    "lastname = \"sorberg\"\r\n",
    "\r\n",
    "#concatenating string\r\n",
    "\r\n",
    "fullname = firstname +  \" \" + lastname\r\n",
    "\r\n",
    "\r\n",
    "school = \"It högskolan\"\r\n",
    "adress = \"Full vägen 13\"\r\n",
    "phone = \"444\"\r\n",
    "print(fullname)\r\n",
    "\r\n",
    "\r\n",
    "#multiline f-string\r\n",
    "\r\n",
    "contact_details = f\"\"\"\r\n",
    "\r\n",
    "Name: {fullname}\r\n",
    "School: {school}\r\n",
    "adress: {adress}\r\n",
    "Phone: {phone}\r\n",
    "\"\"\"\r\n",
    "print(contact_details)\r\n",
    "\r\n",
    "\r\n",
    "\r\n"
   ],
   "outputs": [
    {
     "output_type": "stream",
     "name": "stdout",
     "text": [
      "jim sorberg\n",
      "\n",
      "\n",
      "Name: jim sorberg\n",
      "School: It högskolan\n",
      "adress: Full vägen 13\n",
      "Phone: 444\n",
      "\n"
     ]
    }
   ],
   "metadata": {}
  },
  {
   "cell_type": "markdown",
   "source": [
    "## concatenate whit loop"
   ],
   "metadata": {}
  },
  {
   "cell_type": "code",
   "execution_count": 9,
   "source": [
    "bamba = \"Chili sin carne, köttbullar, fisk, pankakor, taco\".split(\", \")\r\n",
    "days = \"må ti on to fr\".split() #split on def on empty space \" \"\r\n",
    "\r\n",
    "menu = \"vekomeny \\n\"\r\n",
    "\r\n",
    "for day, food in zip(days, bamba):\r\n",
    "    menu += f\"{day}: {food} \\n\"\r\n",
    "\r\n",
    "print(menu)\r\n"
   ],
   "outputs": [
    {
     "output_type": "stream",
     "name": "stdout",
     "text": [
      "vekomeny \n",
      "må: Chili sin carne \n",
      "ti: köttbullar \n",
      "on: fisk \n",
      "to: pankakor \n",
      "fr: taco \n",
      "\n"
     ]
    }
   ],
   "metadata": {}
  },
  {
   "cell_type": "markdown",
   "source": [
    "## Indexing\r\n",
    "\r\n",
    "- indexing whit []operatorn to access elements\r\n",
    "- slicing operator"
   ],
   "metadata": {}
  },
  {
   "cell_type": "code",
   "execution_count": 14,
   "source": [
    "quote = \"!false - it's funny because it's True\" # works\r\n",
    "# quote = '!false - it's funny because it's True' #dont work dosent work becuse of the '\r\n",
    "\r\n",
    "print(f\"quote [0]: {quote[0]}\")\r\n",
    "print(f\"quote [-1]: {quote[-1]}\")\r\n",
    "print(f\"quote [-4:]: {quote[-4:]}\")\r\n",
    "print(f\"quote [1:6]: {quote[1:6]}\") #[start:stop -1]\r\n",
    "print(f\"backwads quote[::-1]: {quote[::-1]}\")\r\n",
    "\r\n"
   ],
   "outputs": [
    {
     "output_type": "stream",
     "name": "stdout",
     "text": [
      "quote [0]: !\n",
      "quote [-1]: e\n",
      "quote [-4:]: True\n",
      "quote [1:6]: false\n",
      "backwads quote[::-1]: eurT s'ti esuaceb ynnuf s'ti - eslaf!\n"
     ]
    }
   ],
   "metadata": {}
  },
  {
   "cell_type": "markdown",
   "source": [
    "# Split string"
   ],
   "metadata": {}
  },
  {
   "cell_type": "code",
   "execution_count": 12,
   "source": [
    "\r\n",
    "numbers = input(\"ange några tal sepererade med mellanslag: \").split()# data type is string\r\n",
    "#numbers = int(input(\"ange några tal sepererade med mellanslag: \")).split()\r\n",
    "\r\n",
    "\r\n",
    "numbers = [float(number)for number in numbers if number.isdigit()]\r\n",
    "print(numbers)\r\n",
    "\r\n",
    "mean = sum(numbers)/len(numbers)\r\n",
    "print =(f\"medelvärde är {mean}\")\r\n"
   ],
   "outputs": [
    {
     "output_type": "error",
     "ename": "TypeError",
     "evalue": "'str' object is not callable",
     "traceback": [
      "\u001b[1;31m---------------------------------------------------------------------------\u001b[0m",
      "\u001b[1;31mTypeError\u001b[0m                                 Traceback (most recent call last)",
      "\u001b[1;32mC:\\Users\\RADIOA~1\\AppData\\Local\\Temp/ipykernel_9888/4232902014.py\u001b[0m in \u001b[0;36m<module>\u001b[1;34m\u001b[0m\n\u001b[0;32m      7\u001b[0m \u001b[1;33m\u001b[0m\u001b[0m\n\u001b[0;32m      8\u001b[0m \u001b[0mmean\u001b[0m \u001b[1;33m=\u001b[0m \u001b[0msum\u001b[0m\u001b[1;33m(\u001b[0m\u001b[0mnumbers\u001b[0m\u001b[1;33m)\u001b[0m\u001b[1;33m/\u001b[0m\u001b[0mlen\u001b[0m\u001b[1;33m(\u001b[0m\u001b[0mnumbers\u001b[0m\u001b[1;33m)\u001b[0m\u001b[1;33m\u001b[0m\u001b[1;33m\u001b[0m\u001b[0m\n\u001b[1;32m----> 9\u001b[1;33m \u001b[0mprint\u001b[0m\u001b[1;33m(\u001b[0m\u001b[0mnumbers\u001b[0m\u001b[1;33m)\u001b[0m\u001b[1;33m\u001b[0m\u001b[1;33m\u001b[0m\u001b[0m\n\u001b[0m\u001b[0;32m     10\u001b[0m \u001b[0mprint\u001b[0m \u001b[1;33m=\u001b[0m\u001b[1;33m(\u001b[0m\u001b[1;34mf\"medelvärde är {mean}\"\u001b[0m\u001b[1;33m)\u001b[0m\u001b[1;33m\u001b[0m\u001b[1;33m\u001b[0m\u001b[0m\n",
      "\u001b[1;31mTypeError\u001b[0m: 'str' object is not callable"
     ]
    }
   ],
   "metadata": {}
  },
  {
   "cell_type": "markdown",
   "source": [
    "## Regular expression\r\n",
    "- finde particular patterns in string \r\n",
    "- e.g. phone number, personal numbers, emails ..\r\n"
   ],
   "metadata": {}
  },
  {
   "cell_type": "code",
   "execution_count": 10,
   "source": [
    "import re\r\n",
    "\r\n",
    "text = \"mit nummer är 021-432567, add telefonnimber 047-414546, dbedas: 0739-231451\"\r\n",
    "match = re.findall(r\"\\d\\d\\d-\\d\\d\\d\\d\\d\\d\", text)\r\n",
    "print(match)\r\n",
    "match2 = re.findall(r\"\\d{3}-\\d{6}\", text)\r\n",
    "print(match2)\r\n"
   ],
   "outputs": [
    {
     "output_type": "error",
     "ename": "TypeError",
     "evalue": "'str' object is not callable",
     "traceback": [
      "\u001b[1;31m---------------------------------------------------------------------------\u001b[0m",
      "\u001b[1;31mTypeError\u001b[0m                                 Traceback (most recent call last)",
      "\u001b[1;32mC:\\Users\\RADIOA~1\\AppData\\Local\\Temp/ipykernel_9888/4110348760.py\u001b[0m in \u001b[0;36m<module>\u001b[1;34m\u001b[0m\n\u001b[0;32m      2\u001b[0m \u001b[0mtext\u001b[0m \u001b[1;33m=\u001b[0m \u001b[1;34m\"mit nummer är 021-432567, add telefonnimber 047-414546, dbedas: 0739-231451\"\u001b[0m\u001b[1;33m\u001b[0m\u001b[1;33m\u001b[0m\u001b[0m\n\u001b[0;32m      3\u001b[0m \u001b[0mmatch\u001b[0m \u001b[1;33m=\u001b[0m \u001b[0mre\u001b[0m\u001b[1;33m.\u001b[0m\u001b[0mfindall\u001b[0m\u001b[1;33m(\u001b[0m\u001b[1;34mr\"\\d\\d\\d-\\d\\d\\d\\d\\d\\d\"\u001b[0m\u001b[1;33m,\u001b[0m \u001b[0mtext\u001b[0m\u001b[1;33m)\u001b[0m\u001b[1;33m\u001b[0m\u001b[1;33m\u001b[0m\u001b[0m\n\u001b[1;32m----> 4\u001b[1;33m \u001b[0mprint\u001b[0m\u001b[1;33m(\u001b[0m\u001b[0mmatch\u001b[0m\u001b[1;33m)\u001b[0m\u001b[1;33m\u001b[0m\u001b[1;33m\u001b[0m\u001b[0m\n\u001b[0m\u001b[0;32m      5\u001b[0m \u001b[0mmatch2\u001b[0m \u001b[1;33m=\u001b[0m \u001b[0mre\u001b[0m\u001b[1;33m.\u001b[0m\u001b[0mfindall\u001b[0m\u001b[1;33m(\u001b[0m\u001b[1;34mr\"\\d{3}-\\d{6}\"\u001b[0m\u001b[1;33m,\u001b[0m \u001b[0mtext\u001b[0m\u001b[1;33m)\u001b[0m\u001b[1;33m\u001b[0m\u001b[1;33m\u001b[0m\u001b[0m\n\u001b[0;32m      6\u001b[0m \u001b[0mprint\u001b[0m\u001b[1;33m(\u001b[0m\u001b[0mmatch2\u001b[0m\u001b[1;33m)\u001b[0m\u001b[1;33m\u001b[0m\u001b[1;33m\u001b[0m\u001b[0m\n",
      "\u001b[1;31mTypeError\u001b[0m: 'str' object is not callable"
     ]
    }
   ],
   "metadata": {}
  },
  {
   "cell_type": "code",
   "execution_count": 11,
   "source": [
    "import re\r\n",
    "# find all word ending in att\r\n",
    "\r\n",
    "text = \"det var en gång en katt som tog på sig en hatt jag blev matt så jag såelade schack och vann med skolmatt\"\r\n",
    "\r\n",
    "match = re.findall(r\".att\", text)\r\n",
    "print(match)"
   ],
   "outputs": [
    {
     "output_type": "error",
     "ename": "TypeError",
     "evalue": "'str' object is not callable",
     "traceback": [
      "\u001b[1;31m---------------------------------------------------------------------------\u001b[0m",
      "\u001b[1;31mTypeError\u001b[0m                                 Traceback (most recent call last)",
      "\u001b[1;32mC:\\Users\\RADIOA~1\\AppData\\Local\\Temp/ipykernel_9888/1714980121.py\u001b[0m in \u001b[0;36m<module>\u001b[1;34m\u001b[0m\n\u001b[0;32m      5\u001b[0m \u001b[1;33m\u001b[0m\u001b[0m\n\u001b[0;32m      6\u001b[0m \u001b[0mmatch\u001b[0m \u001b[1;33m=\u001b[0m \u001b[0mre\u001b[0m\u001b[1;33m.\u001b[0m\u001b[0mfindall\u001b[0m\u001b[1;33m(\u001b[0m\u001b[1;34mr\".att\"\u001b[0m\u001b[1;33m,\u001b[0m \u001b[0mtext\u001b[0m\u001b[1;33m)\u001b[0m\u001b[1;33m\u001b[0m\u001b[1;33m\u001b[0m\u001b[0m\n\u001b[1;32m----> 7\u001b[1;33m \u001b[0mprint\u001b[0m\u001b[1;33m(\u001b[0m\u001b[0mmatch\u001b[0m\u001b[1;33m)\u001b[0m\u001b[1;33m\u001b[0m\u001b[1;33m\u001b[0m\u001b[0m\n\u001b[0m",
      "\u001b[1;31mTypeError\u001b[0m: 'str' object is not callable"
     ]
    }
   ],
   "metadata": {}
  }
 ],
 "metadata": {
  "orig_nbformat": 4,
  "language_info": {
   "name": "python",
   "version": "3.9.6",
   "mimetype": "text/x-python",
   "codemirror_mode": {
    "name": "ipython",
    "version": 3
   },
   "pygments_lexer": "ipython3",
   "nbconvert_exporter": "python",
   "file_extension": ".py"
  },
  "kernelspec": {
   "name": "python3",
   "display_name": "Python 3.9.6 64-bit ('pythonkurs-s4IvoQ70': pipenv)"
  },
  "interpreter": {
   "hash": "7844dc0ca27035570736aba6023ffa7617d905d828b6f4d4bd04534e2d076ee8"
  }
 },
 "nbformat": 4,
 "nbformat_minor": 2
}
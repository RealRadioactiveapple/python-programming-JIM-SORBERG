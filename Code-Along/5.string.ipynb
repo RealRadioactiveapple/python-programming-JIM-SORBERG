{
 "cells": [
  {
   "cell_type": "markdown",
   "metadata": {},
   "source": [
    "# String"
   ]
  },
  {
   "cell_type": "markdown",
   "metadata": {},
   "source": [
    "## concatenating string"
   ]
  },
  {
   "cell_type": "code",
   "execution_count": 2,
   "metadata": {},
   "outputs": [
    {
     "name": "stdout",
     "output_type": "stream",
     "text": [
      "jim sorberg\n",
      "\n",
      "\n",
      "Name: jim sorberg\n",
      "School: It högskolan\n",
      "adress: Full vägen 13\n",
      "Phone: 444\n",
      "\n"
     ]
    }
   ],
   "source": [
    "firstname = \"jim\"\n",
    "lastname = \"sorberg\"\n",
    "\n",
    "#concatenating string\n",
    "\n",
    "fullname = firstname +  \" \" + lastname\n",
    "\n",
    "\n",
    "school = \"It högskolan\"\n",
    "adress = \"Full vägen 13\"\n",
    "phone = \"444\"\n",
    "print(fullname)\n",
    "\n",
    "\n",
    "#multiline f-string\n",
    "\n",
    "contact_details = f\"\"\"\n",
    "\n",
    "Name: {fullname}\n",
    "School: {school}\n",
    "adress: {adress}\n",
    "Phone: {phone}\n",
    "\"\"\"\n",
    "print(contact_details)\n",
    "\n",
    "\n",
    "\n"
   ]
  },
  {
   "cell_type": "markdown",
   "metadata": {},
   "source": [
    "## concatenate whit loop"
   ]
  },
  {
   "cell_type": "code",
   "execution_count": 9,
   "metadata": {},
   "outputs": [
    {
     "name": "stdout",
     "output_type": "stream",
     "text": [
      "vekomeny \n",
      "må: Chili sin carne \n",
      "ti: köttbullar \n",
      "on: fisk \n",
      "to: pankakor \n",
      "fr: taco \n",
      "\n"
     ]
    }
   ],
   "source": [
    "bamba = \"Chili sin carne, köttbullar, fisk, pankakor, taco\".split(\", \")\n",
    "days = \"må ti on to fr\".split() #split on def on empty space \" \"\n",
    "\n",
    "menu = \"vekomeny \\n\"\n",
    "\n",
    "for day, food in zip(days, bamba):\n",
    "    menu += f\"{day}: {food} \\n\"\n",
    "\n",
    "print(menu)\n"
   ]
  },
  {
   "cell_type": "markdown",
   "metadata": {},
   "source": [
    "## Indexing\n",
    "\n",
    "- indexing whit []operatorn to access elements\n",
    "- slicing operator"
   ]
  },
  {
   "cell_type": "code",
   "execution_count": 3,
   "metadata": {},
   "outputs": [
    {
     "name": "stdout",
     "output_type": "stream",
     "text": [
      "quote [0]: !\n",
      "quote [-1]: e\n",
      "quote [-4:]: True\n",
      "quote [1:6]: false\n",
      "backwads quote[::-1]: eurT s'ti esuaceb ynnuf s'ti - eslaf!\n"
     ]
    }
   ],
   "source": [
    "quote = \"!false - it's funny because it's True\" # works\n",
    "# quote = '!false - it's funny because it's True' #dont work dosent work becuse of the '\n",
    "\n",
    "print(f\"quote [0]: {quote[0]}\")\n",
    "print(f\"quote [-1]: {quote[-1]}\")\n",
    "print(f\"quote [-4:]: {quote[-4:]}\")\n",
    "print(f\"quote [1:6]: {quote[1:6]}\") #[start:stop -1]\n",
    "print(f\"backwads quote[::-1]: {quote[::-1]}\")\n",
    "\n"
   ]
  },
  {
   "cell_type": "markdown",
   "metadata": {},
   "source": [
    "# Split string"
   ]
  },
  {
   "cell_type": "code",
   "execution_count": 6,
   "metadata": {},
   "outputs": [
    {
     "name": "stdout",
     "output_type": "stream",
     "text": [
      "[3.0, 4.0, 5.0]\n",
      "medelvärde är: 4.0\n"
     ]
    }
   ],
   "source": [
    "\n",
    "numbers = input(\"ange några tal sepererade med mellanslag: \").split()# data type is string\n",
    "#numbers = int(input(\"ange några tal sepererade med mellanslag: \")).split()\n",
    "\n",
    "\n",
    "numbers = [float(number) for number in numbers if number.isdigit()]\n",
    "print(numbers)\n",
    "\n",
    "mean = sum(numbers)/len(numbers)\n",
    "print (f\"medelvärde är: {mean}\")\n",
    "\n"
   ]
  },
  {
   "cell_type": "markdown",
   "metadata": {},
   "source": [
    "## Regular expression\n",
    "- finde particular patterns in string \n",
    "- e.g. phone number, personal numbers, emails ..\n"
   ]
  },
  {
   "cell_type": "code",
   "execution_count": 3,
   "metadata": {},
   "outputs": [
    {
     "name": "stdout",
     "output_type": "stream",
     "text": [
      "['021-432567', '047-414546', '739-231451']\n",
      "['021-432567', '047-414546', '739-231451']\n"
     ]
    }
   ],
   "source": [
    "import re\n",
    "\n",
    "text = \"mit nummer är 021-432567, add telefonnimber 047-414546, dbedas: 0739-231451\"\n",
    "match = re.findall(r\"\\d\\d\\d-\\d\\d\\d\\d\\d\\d\", text)\n",
    "print(match)\n",
    "match2 = re.findall(r\"\\d{3}-\\d{6}\", text)\n",
    "print(match2)\n"
   ]
  },
  {
   "cell_type": "code",
   "execution_count": 2,
   "metadata": {},
   "outputs": [
    {
     "name": "stdout",
     "output_type": "stream",
     "text": [
      "['katt', 'hatt', 'matt', 'matt']\n"
     ]
    }
   ],
   "source": [
    "import re\n",
    "# find all word ending in att\n",
    "\n",
    "text = \"det var en gång en katt som tog på sig en hatt jag blev matt så jag såelade schack och vann med skolmatt\"\n",
    "\n",
    "match = re.findall(r\".att\", text)\n",
    "print(match)"
   ]
  }
 ],
 "metadata": {
  "interpreter": {
   "hash": "7844dc0ca27035570736aba6023ffa7617d905d828b6f4d4bd04534e2d076ee8"
  },
  "kernelspec": {
   "display_name": "Python 3.9.6 64-bit ('pythonkurs-s4IvoQ70': pipenv)",
   "name": "python3"
  },
  "language_info": {
   "codemirror_mode": {
    "name": "ipython",
    "version": 3
   },
   "file_extension": ".py",
   "mimetype": "text/x-python",
   "name": "python",
   "nbconvert_exporter": "python",
   "pygments_lexer": "ipython3",
   "version": "3.9.6"
  },
  "orig_nbformat": 4
 },
 "nbformat": 4,
 "nbformat_minor": 2
}

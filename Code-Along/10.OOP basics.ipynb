{
 "cells": [
  {
   "cell_type": "markdown",
   "source": [
    "# OOp basics"
   ],
   "metadata": {}
  },
  {
   "cell_type": "code",
   "execution_count": 2,
   "source": [
    "class antagning: #creats a class\r\n",
    "    def __init__(self):\r\n",
    "        pass\r\n",
    "\r\n",
    "a1 = antagning() #instantiated an object from the class antagning\r\n",
    "print(a1)\r\n",
    "\r\n"
   ],
   "outputs": [
    {
     "output_type": "stream",
     "name": "stdout",
     "text": [
      "<__main__.antagning object at 0x000000000773FF70>\n"
     ]
    }
   ],
   "metadata": {}
  },
  {
   "cell_type": "code",
   "execution_count": 14,
   "source": [
    "class antagning:\r\n",
    "    #self refures to the objekt that is created\r\n",
    "    #for functions or methods - positional parametrar first, then default parameter\r\n",
    "    def __init__(self, school, program, name, accept = False) -> None: #dunder init\r\n",
    "        #assigns arguments to the object attributes (egenskaper/variabler)\r\n",
    "        self.school = school\r\n",
    "        self.program = program\r\n",
    "        self.name = name\r\n",
    "        self.accept = accept\r\n",
    "    def __repr__(self): #dunder __reger__ read: \"repper\"\r\n",
    "        return f\"antagning(school= {self.school}, (program={self.program}), (name= {self.name}), (accept{self.accept}))\"\r\n",
    "        \r\n",
    "\r\n",
    "\r\n",
    "\r\n",
    "\r\n",
    "person1 = antagning(\"cool school\",\"AI\",\"gore bord\", False)#constructor \r\n",
    "person2 = antagning(\"itschool\", \"ux\", name = \"gora borat\")\r\n",
    "print(person1.name)\r\n",
    "print(person1.school)\r\n",
    "print(person1.__dict__)# dunder dict\r\n",
    "print(person2.accept)\r\n",
    "print(person2.name)\r\n",
    "\r\n",
    "print(person2)\r\n",
    "print(person1)"
   ],
   "outputs": [
    {
     "output_type": "stream",
     "name": "stdout",
     "text": [
      "gore bord\n",
      "cool school\n",
      "{'school': 'cool school', 'program': 'AI', 'name': 'gore bord', 'accept': False}\n",
      "False\n",
      "gora borat\n",
      "antagning(school= itschool, (program=ux), (name= gora borat), (acceptFalse))\n",
      "antagning(school= cool school, (program=AI), (name= gore bord), (acceptFalse))\n"
     ]
    }
   ],
   "metadata": {}
  },
  {
   "cell_type": "markdown",
   "source": [
    "## exempel old coins in sweden\r\n",
    "- dont rember Reference\r\n",
    "- rikstaler och skilling"
   ],
   "metadata": {}
  },
  {
   "cell_type": "code",
   "execution_count": 15,
   "source": [
    "class Oldcoinstash:\r\n",
    "    def __init__(self,owner) -> None:\r\n",
    "        #this attributs are public\r\n",
    "        self.owner = owner \r\n",
    "        self.riksdaller = 0\r\n",
    "        self.skilling = 0\r\n",
    "\r\n",
    "stash1 = Oldcoinstash(\"gore bord\")\r\n",
    "print(stash1.riksdaller)\r\n",
    "stash1.riksdaller= 1000\r\n",
    "print(stash1.riksdaller)"
   ],
   "outputs": [
    {
     "output_type": "stream",
     "name": "stdout",
     "text": [
      "0\n",
      "1000\n"
     ]
    }
   ],
   "metadata": {}
  },
  {
   "cell_type": "markdown",
   "source": [
    "## encapsulation\r\n",
    "- in oop, you want to encapsulate some infromation and only show relevent infromation outwards"
   ],
   "metadata": {}
  },
  {
   "cell_type": "code",
   "execution_count": 32,
   "source": [
    "class Oldcoinstash:\r\n",
    "    def __init__(self,owner: str) -> None:\r\n",
    "        #this attributs are public\r\n",
    "        self.owner = owner \r\n",
    "\r\n",
    "        # private - by convention use underscore prefix\r\n",
    "        self._riksdaller = 0\r\n",
    "        self._skilling = 0\r\n",
    "\r\n",
    "    def deposit(self, riksdaller:float = 0, skilling:float = 0):\r\n",
    "        if riksdaller < 0 or skilling < 0:\r\n",
    "            raise ValueError(f\"stop deposting negativ values. {riksdaller}riksdaler or {skilling} not okey\")\r\n",
    "\r\n",
    "        self._riksdaller += riksdaller\r\n",
    "        self._skilling += skilling\r\n",
    "\r\n",
    "    def withdraw (self, riksdaller:float = 0, skilling:float = 0):\r\n",
    "        if riksdaller > self._riksdaller or skilling > self._skilling:\r\n",
    "            raise ValueError(\"you have no money\")\r\n",
    "        self._skilling -= skilling\r\n",
    "        self._riksdaller -= riksdaller\r\n",
    "\r\n",
    "    def check_balance(self) -> str:\r\n",
    "        return f\"coins:{self._riksdaller} and {self._skilling}\"\r\n",
    "\r\n",
    "    def __repr__(self) -> str:\r\n",
    "        return f\"Oldcoinstash(owner = '{self.owner}')\"\r\n",
    "\r\n",
    "stash1 = Oldcoinstash(\"gore bord\")\r\n",
    "\r\n",
    "print(stash1)\r\n",
    "print(stash1.check_balance())\r\n",
    "stash1.deposit(riksdaller = 590, skilling = 3000)\r\n",
    "\r\n",
    "print(stash1.check_balance())\r\n",
    "\r\n",
    "try:\r\n",
    "    stash1.deposit(-20,35)\r\n",
    "except ValueError as err:\r\n",
    "    print(err)\r\n",
    "\r\n",
    "print(stash1.withdraw(100,100))\r\n",
    "print(stash1.check_balance())\r\n",
    "\r\n",
    "try:\r\n",
    "    stash1.withdraw(30000,35000)\r\n",
    "except ValueError as err:\r\n",
    "    print(err)\r\n",
    "print(stash1.check_balance())\r\n",
    "\r\n",
    "#works, but dont do this\r\n",
    "\r\n",
    "stash1._riksdaller = 100000\r\n",
    "print(stash1.check_balance())\r\n",
    "\r\n"
   ],
   "outputs": [
    {
     "output_type": "stream",
     "name": "stdout",
     "text": [
      "Oldcoinstash(owner = 'gore bord')\n",
      "coins:0 and 0\n",
      "coins:590 and 3000\n",
      "stop deposting negativ values. -20riksdaler or 35 not okey\n",
      "None\n",
      "coins:490 and 2900\n",
      "you have no money\n",
      "coins:490 and 2900\n",
      "coins:100000 and 2900\n"
     ]
    }
   ],
   "metadata": {}
  },
  {
   "cell_type": "markdown",
   "source": [
    "# Propertis"
   ],
   "metadata": {}
  },
  {
   "cell_type": "code",
   "execution_count": 38,
   "source": [
    "class student:\r\n",
    "    def __init__(self, name: str, age: float) -> None:\r\n",
    "        self.name = name #note no underscore\r\n",
    "        self.age = age\r\n",
    "   # @property\r\n",
    "    #def name(self) -> str:\r\n",
    "    #    return self._name #note underscore\r\n",
    "    \r\n",
    "    @property\r\n",
    "    def age(self) -> float:\r\n",
    "        print(\"age getter is running ...\")\r\n",
    "        return self._age\r\n",
    "    \r\n",
    "    @age.setter\r\n",
    "    def age(self, value:float) ->None:\r\n",
    "        print(\"age setter is running ...\")\r\n",
    "        if not isinstance(value, (int,float)):\r\n",
    "            raise TypeError(f\"age must be number\")\r\n",
    "        if not (0 <= value < 125):\r\n",
    "            raise ValueError(\"your age must be between 0 and 124\")\r\n",
    "        \r\n",
    "        self._age = value\r\n",
    "\r\n",
    "student1 = student(\"gore bore\", 25)\r\n",
    "print(student1.age)\r\n",
    "print(student1.name) \r\n",
    "try:\r\n",
    "    student1.age = \"25\"\r\n",
    "except TypeError as err:\r\n",
    "    print(err)"
   ],
   "outputs": [
    {
     "output_type": "stream",
     "name": "stdout",
     "text": [
      "age setter is running ...\n",
      "age getter is running ...\n",
      "25\n",
      "gore bore\n",
      "age setter is running ...\n",
      "age must be number\n"
     ]
    }
   ],
   "metadata": {}
  }
 ],
 "metadata": {
  "orig_nbformat": 4,
  "language_info": {
   "name": "python",
   "version": "3.9.6",
   "mimetype": "text/x-python",
   "codemirror_mode": {
    "name": "ipython",
    "version": 3
   },
   "pygments_lexer": "ipython3",
   "nbconvert_exporter": "python",
   "file_extension": ".py"
  },
  "kernelspec": {
   "name": "python3",
   "display_name": "Python 3.9.6 64-bit ('pythonkurs-s4IvoQ70': pipenv)"
  },
  "interpreter": {
   "hash": "7844dc0ca27035570736aba6023ffa7617d905d828b6f4d4bd04534e2d076ee8"
  }
 },
 "nbformat": 4,
 "nbformat_minor": 2
}
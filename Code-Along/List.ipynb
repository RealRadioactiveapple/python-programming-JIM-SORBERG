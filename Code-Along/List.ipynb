{
 "cells": [
  {
   "cell_type": "code",
   "execution_count": 4,
   "source": [
    "tv_shows = [\"antikrundan\",\"mästerkockarna\", \"raport\", \"aktuellt\"]\r\n",
    "\r\n",
    "print(f\"tv_shows[0]: {tv_shows[0]}\")\r\n",
    "print(f\"tv_shows[1]: {tv_shows[1]}\")\r\n",
    "print(f\"tv_shows[-1]: {tv_shows[-1]}\")\r\n",
    "\r\n",
    "#slice operator\r\n",
    "print((f\"tv_shows[:]: {tv_shows[:]}\"))\r\n",
    "print(f\"tv_shows[1:]: {tv_shows[1:]}\")\r\n",
    "print(f\"tv_shows[1:3]: {tv_shows[1:3]}\")#note [start:end-1]\r\n",
    "print(f\"tv_shows[::-1]: {tv_shows[::-1]}\") #[start:end:step]\r\n",
    "\r\n",
    "\r\n",
    "#change list\r\n",
    "tv_shows.append(\"go kväll\")\r\n",
    "print(tv_shows)\r\n",
    "\r\n",
    "\r\n",
    "print (\"tv\")\r\n",
    "for i, tv_shows in enumerate (tv_shows):\r\n",
    "    print(f\"{i}: {tv_shows}\")"
   ],
   "outputs": [
    {
     "output_type": "stream",
     "name": "stdout",
     "text": [
      "tv_shows[0]: antikrundan\n",
      "tv_shows[1]: mästerkockarna\n",
      "tv_shows[-1]: aktuellt\n",
      "tv_shows[:]: ['antikrundan', 'mästerkockarna', 'raport', 'aktuellt']\n",
      "tv_shows[1:]: ['mästerkockarna', 'raport', 'aktuellt']\n",
      "tv_shows[1:3]: ['mästerkockarna', 'raport']\n",
      "tv_shows[::-1]: ['aktuellt', 'raport', 'mästerkockarna', 'antikrundan']\n",
      "['antikrundan', 'mästerkockarna', 'raport', 'aktuellt', 'go kväll']\n",
      "tv\n",
      "0: antikrundan\n",
      "1: mästerkockarna\n",
      "2: raport\n",
      "3: aktuellt\n",
      "4: go kväll\n"
     ]
    }
   ],
   "metadata": {}
  }
 ],
 "metadata": {
  "orig_nbformat": 4,
  "language_info": {
   "name": "python",
   "version": "3.9.6",
   "mimetype": "text/x-python",
   "codemirror_mode": {
    "name": "ipython",
    "version": 3
   },
   "pygments_lexer": "ipython3",
   "nbconvert_exporter": "python",
   "file_extension": ".py"
  },
  "kernelspec": {
   "name": "python3",
   "display_name": "Python 3.9.6 64-bit ('pythonkurs-s4IvoQ70': pipenv)"
  },
  "interpreter": {
   "hash": "7844dc0ca27035570736aba6023ffa7617d905d828b6f4d4bd04534e2d076ee8"
  }
 },
 "nbformat": 4,
 "nbformat_minor": 2
}
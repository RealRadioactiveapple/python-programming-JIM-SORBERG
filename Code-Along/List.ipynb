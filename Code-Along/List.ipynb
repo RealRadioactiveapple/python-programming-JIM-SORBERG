tv_shows = ["antikrundan", "mästerkockarna", "raport"]

print(f"")
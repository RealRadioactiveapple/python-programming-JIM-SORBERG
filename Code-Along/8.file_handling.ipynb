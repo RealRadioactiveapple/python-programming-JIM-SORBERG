{
 "cells": [
  {
   "cell_type": "markdown",
   "metadata": {},
   "source": [
    "# file handeling\n",
    "- \"r\" -read\n",
    "- \"a\" -append\n",
    "- \"w\" -write\n",
    "- \"x\" -creat"
   ]
  },
  {
   "cell_type": "code",
   "execution_count": 15,
   "metadata": {},
   "outputs": [
    {
     "name": "stdout",
     "output_type": "stream",
     "text": [
      "  If     we     knew what it was      we were doing, it would not be called research,          would it?     - Albert Einstein\n",
      "\n",
      "Time is a drug. Too       much of it kills you.  -  Terry Pratchett\n",
      "\n",
      "\n",
      " An expert is a person who       has made all the mistakes that           can be made in a          very narrow field - Niels Bohr\n",
      "\n",
      "   Everything must be made as simple as possible. But not simpler. - Albert Einstein     \n",
      "\n",
      "\n",
      "  Nothing in life                is to be feared, it is only to be understood. Now is the time to understand more, so that we may fear less. - Marie  Curie  \n",
      "\n",
      "If I have seen further     it is by standing on the shoulders of Giants. - Isaac Newton\n"
     ]
    }
   ],
   "source": [
    "#use this when opening files\n",
    "#takes care of error handeling\n",
    "#takes care of closing down the file\n",
    "with open(\"Files/quotes.txt\", \"r\")as f: #\"r\" option -> read file  \n",
    "    text = f.read()\n",
    "    \n",
    "print(text)\n",
    "    "
   ]
  },
  {
   "cell_type": "markdown",
   "metadata": {},
   "source": [
    "## Clean up quots.txt\n",
    "\n",
    "- inspect quotes.txt\n",
    "- remove leading and trailing withspaces\n",
    "- remove excessive whitespaces between words\n",
    "- add quot number\n",
    "- extract authors\n"
   ]
  },
  {
   "cell_type": "code",
   "execution_count": 19,
   "metadata": {},
   "outputs": [
    {
     "name": "stdout",
     "output_type": "stream",
     "text": [
      "['  If     we     knew what it was      we were doing, it would not be called research,          would it?     - Albert Einstein', '', 'Time is a drug. Too       much of it kills you.  -  Terry Pratchett', '', '', ' An expert is a person who       has made all the mistakes that           can be made in a          very narrow field - Niels Bohr', '', '   Everything must be made as simple as possible. But not simpler. - Albert Einstein     ', '', '', '  Nothing in life                is to be feared, it is only to be understood. Now is the time to understand more, so that we may fear less. - Marie  Curie  ', '', 'If I have seen further     it is by standing on the shoulders of Giants. - Isaac Newton']\n"
     ]
    }
   ],
   "source": [
    "path = \"files/quotes.txt\"\n",
    "\n",
    "with open(path, \"r\") as f1:\n",
    "    #quotes = f1.readlines()\n",
    "    #print(quotes)\n",
    "    quotes = [quote.strip(\"\\n\") for quote in f1.readlines()]\n",
    "    print(quotes)"
   ]
  },
  {
   "cell_type": "code",
   "execution_count": 48,
   "metadata": {},
   "outputs": [
    {
     "name": "stdout",
     "output_type": "stream",
     "text": [
      "'If we knew what it was we were doing, it would not be called research, would it? - Albert Einstein'\n",
      "''\n",
      "'Time is a drug. Too much of it kills you. - Terry Pratchett'\n",
      "''\n",
      "''\n",
      "'An expert is a person who has made all the mistakes that can be made in a very narrow field - Niels Bohr'\n",
      "''\n",
      "'Everything must be made as simple as possible. But not simpler. - Albert Einstein'\n",
      "''\n",
      "''\n",
      "'Nothing in life is to be feared, it is only to be understood. Now is the time to understand more, so that we may fear less. - Marie Curie'\n",
      "''\n",
      "'If I have seen further it is by standing on the shoulders of Giants. - Isaac Newton'\n"
     ]
    }
   ],
   "source": [
    "import re\n",
    "path = \"files/quotes.txt\"\n",
    "path_clean = \"files/quotes_clean.txt\"\n",
    "i = 1\n",
    "with open(path, \"r\") as f1, open(path_clean, \"w\") as f2:\n",
    "    f2.write(\"Fames quotes\\n\\n\")\n",
    "    for quote in f1.readlines():\n",
    "        quote = quote.strip(\" \\n\") # removes leading and trailing with space and new lines\n",
    "        #quote = quote.replace(\"  \",\"\")\n",
    "        quote = re.sub(\" +\",\" \", quote) # substitutes >= 1 whitespace with one whitespace\n",
    "        print(repr(quote))\n",
    "        if quote != \"\":\n",
    "            f2.write(f\"{i}.{quote}\\n\")\n",
    "            i += 1\n",
    "\n",
    "        \n"
   ]
  },
  {
   "cell_type": "markdown",
   "metadata": {},
   "source": [
    "# Extract authors from quots_clean.txt"
   ]
  },
  {
   "cell_type": "code",
   "execution_count": 49,
   "metadata": {},
   "outputs": [
    {
     "name": "stdout",
     "output_type": "stream",
     "text": [
      "{'Marie Curie', 'Niels Bohr', 'Isaac Newton', 'Terry Pratchett', 'Albert Einstein'}\n"
     ]
    }
   ],
   "source": [
    "path_clean = \"files/quotes_clean.txt\"\n",
    "\n",
    "with open(path_clean, \"r\")as f1, open(path_clean, \"a\")as f2:\n",
    "    #print(f1.read())\n",
    "    quotes = [quote.strip(\"\\n\") for quote in f1.readlines() if quote[0].isdigit()]\n",
    "    #print(quotes)\n",
    "    authors = [quote.split()[-2:] for quote in quotes]\n",
    "   \n",
    "    authors = set([\" \".join(author) for author in authors])#gets unique \n",
    "    # set ([4,4,4,4,1,2,3]) --> kommer {1,2,3,4}\n",
    "    print(authors)\n",
    "    f2.write(\"\\nAuthors: \")\n",
    "    for author in authors:\n",
    "        f2.write(f\"{author}, \")\n",
    "\n"
   ]
  }
 ],
 "metadata": {
  "interpreter": {
   "hash": "7844dc0ca27035570736aba6023ffa7617d905d828b6f4d4bd04534e2d076ee8"
  },
  "kernelspec": {
   "display_name": "Python 3.9.6 64-bit ('pythonkurs-s4IvoQ70': pipenv)",
   "name": "python3"
  },
  "language_info": {
   "codemirror_mode": {
    "name": "ipython",
    "version": 3
   },
   "file_extension": ".py",
   "mimetype": "text/x-python",
   "name": "python",
   "nbconvert_exporter": "python",
   "pygments_lexer": "ipython3",
   "version": "3.9.6"
  },
  "orig_nbformat": 4
 },
 "nbformat": 4,
 "nbformat_minor": 2
}

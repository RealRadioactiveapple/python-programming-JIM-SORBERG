{
 "cells": [
  {
   "cell_type": "markdown",
   "source": [
    "# file handeling\r\n",
    "- \"r\" -read\r\n",
    "- \"a\" -append\r\n",
    "- \"w\" -write\r\n",
    "- \"x\" -creat"
   ],
   "metadata": {}
  },
  {
   "cell_type": "code",
   "execution_count": 15,
   "source": [
    "#use this when opening files\r\n",
    "#takes care of error handeling\r\n",
    "#takes care of closing down the file\r\n",
    "with open(\"Files/quotes.txt\", \"r\")as f: #\"r\" option -> read file  \r\n",
    "    text = f.read()\r\n",
    "    \r\n",
    "print(text)\r\n",
    "    "
   ],
   "outputs": [
    {
     "output_type": "stream",
     "name": "stdout",
     "text": [
      "  If     we     knew what it was      we were doing, it would not be called research,          would it?     - Albert Einstein\n",
      "\n",
      "Time is a drug. Too       much of it kills you.  -  Terry Pratchett\n",
      "\n",
      "\n",
      " An expert is a person who       has made all the mistakes that           can be made in a          very narrow field - Niels Bohr\n",
      "\n",
      "   Everything must be made as simple as possible. But not simpler. - Albert Einstein     \n",
      "\n",
      "\n",
      "  Nothing in life                is to be feared, it is only to be understood. Now is the time to understand more, so that we may fear less. - Marie  Curie  \n",
      "\n",
      "If I have seen further     it is by standing on the shoulders of Giants. - Isaac Newton\n"
     ]
    }
   ],
   "metadata": {}
  },
  {
   "cell_type": "markdown",
   "source": [
    "## Clean up quots.txt\r\n",
    "\r\n",
    "- inspect quotes.txt\r\n",
    "- remove leading and trailing withspaces\r\n",
    "- remove excessive whitespaces between words\r\n",
    "- add quot number\r\n",
    "- extract authors\r\n"
   ],
   "metadata": {}
  },
  {
   "cell_type": "code",
   "execution_count": 19,
   "source": [
    "path = \"files/quotes.txt\"\r\n",
    "\r\n",
    "with open(path, \"r\") as f1:\r\n",
    "    #quotes = f1.readlines()\r\n",
    "    #print(quotes)\r\n",
    "    quotes = [quote.strip(\"\\n\") for quote in f1.readlines()]\r\n",
    "    print(quotes)"
   ],
   "outputs": [
    {
     "output_type": "stream",
     "name": "stdout",
     "text": [
      "['  If     we     knew what it was      we were doing, it would not be called research,          would it?     - Albert Einstein', '', 'Time is a drug. Too       much of it kills you.  -  Terry Pratchett', '', '', ' An expert is a person who       has made all the mistakes that           can be made in a          very narrow field - Niels Bohr', '', '   Everything must be made as simple as possible. But not simpler. - Albert Einstein     ', '', '', '  Nothing in life                is to be feared, it is only to be understood. Now is the time to understand more, so that we may fear less. - Marie  Curie  ', '', 'If I have seen further     it is by standing on the shoulders of Giants. - Isaac Newton']\n"
     ]
    }
   ],
   "metadata": {}
  },
  {
   "cell_type": "code",
   "execution_count": 48,
   "source": [
    "import re\r\n",
    "path = \"files/quotes.txt\"\r\n",
    "path_clean = \"files/quotes_clean.txt\"\r\n",
    "i = 1\r\n",
    "with open(path, \"r\") as f1, open(path_clean, \"w\") as f2:\r\n",
    "    f2.write(\"Fames quotes\\n\\n\")\r\n",
    "    for quote in f1.readlines():\r\n",
    "        quote = quote.strip(\" \\n\") # removes leading and trailing with space and new lines\r\n",
    "        #quote = quote.replace(\"  \",\"\")\r\n",
    "        quote = re.sub(\" +\",\" \", quote) # substitutes >= 1 whitespace with one whitespace\r\n",
    "        print(repr(quote))\r\n",
    "        if quote != \"\":\r\n",
    "            f2.write(f\"{i}.{quote}\\n\")\r\n",
    "            i += 1\r\n",
    "\r\n",
    "        \r\n"
   ],
   "outputs": [
    {
     "output_type": "stream",
     "name": "stdout",
     "text": [
      "'If we knew what it was we were doing, it would not be called research, would it? - Albert Einstein'\n",
      "''\n",
      "'Time is a drug. Too much of it kills you. - Terry Pratchett'\n",
      "''\n",
      "''\n",
      "'An expert is a person who has made all the mistakes that can be made in a very narrow field - Niels Bohr'\n",
      "''\n",
      "'Everything must be made as simple as possible. But not simpler. - Albert Einstein'\n",
      "''\n",
      "''\n",
      "'Nothing in life is to be feared, it is only to be understood. Now is the time to understand more, so that we may fear less. - Marie Curie'\n",
      "''\n",
      "'If I have seen further it is by standing on the shoulders of Giants. - Isaac Newton'\n"
     ]
    }
   ],
   "metadata": {}
  },
  {
   "cell_type": "markdown",
   "source": [
    "# Extract authors from quots_clean.txt"
   ],
   "metadata": {}
  },
  {
   "cell_type": "code",
   "execution_count": 49,
   "source": [
    "path_clean = \"files/quotes_clean.txt\"\r\n",
    "\r\n",
    "with open(path_clean, \"r\")as f1, open(path_clean, \"a\")as f2:\r\n",
    "    #print(f1.read())\r\n",
    "    quotes = [quote.strip(\"\\n\") for quote in f1.readlines() if quote[0].isdigit()]\r\n",
    "    #print(quotes)\r\n",
    "    authors = [quote.split()[-2:] for quote in quotes]\r\n",
    "   \r\n",
    "    authors = set([\" \".join(author) for author in authors])#gets unique \r\n",
    "    # set ([4,4,4,4,1,2,3]) --> kommer {1,2,3,4}\r\n",
    "    print(authors)\r\n",
    "    f2.write(\"\\nAuthors: \")\r\n",
    "    for author in authors:\r\n",
    "        f2.write(f\"{author}, \")\r\n",
    "\r\n"
   ],
   "outputs": [
    {
     "output_type": "stream",
     "name": "stdout",
     "text": [
      "{'Marie Curie', 'Niels Bohr', 'Isaac Newton', 'Terry Pratchett', 'Albert Einstein'}\n"
     ]
    }
   ],
   "metadata": {}
  }
 ],
 "metadata": {
  "orig_nbformat": 4,
  "language_info": {
   "name": "python",
   "version": "3.9.6",
   "mimetype": "text/x-python",
   "codemirror_mode": {
    "name": "ipython",
    "version": 3
   },
   "pygments_lexer": "ipython3",
   "nbconvert_exporter": "python",
   "file_extension": ".py"
  },
  "kernelspec": {
   "name": "python3",
   "display_name": "Python 3.9.6 64-bit ('pythonkurs-s4IvoQ70': pipenv)"
  },
  "interpreter": {
   "hash": "7844dc0ca27035570736aba6023ffa7617d905d828b6f4d4bd04534e2d076ee8"
  }
 },
 "nbformat": 4,
 "nbformat_minor": 2
}
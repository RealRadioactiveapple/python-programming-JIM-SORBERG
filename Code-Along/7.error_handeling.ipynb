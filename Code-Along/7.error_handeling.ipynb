{
 "cells": [
  {
   "cell_type": "markdown",
   "source": [
    "# error typs\r\n",
    "\r\n",
    "- syntax error - python parser dont understand the code\r\n",
    "\r\n",
    "- logical errors - hard to find - gives unpredictable results\r\n",
    "\r\n",
    "- exeptions error - python parser know what to do, but cant do it"
   ],
   "metadata": {}
  },
  {
   "cell_type": "code",
   "execution_count": 2,
   "source": [
    "# syntax error\r\n",
    "\r\n",
    "pin(\"hej\")\r\n",
    "\r\n",
    "#practice reading error messages!!\r\n"
   ],
   "outputs": [
    {
     "output_type": "error",
     "ename": "NameError",
     "evalue": "name 'pin' is not defined",
     "traceback": [
      "\u001b[1;31m---------------------------------------------------------------------------\u001b[0m",
      "\u001b[1;31mNameError\u001b[0m                                 Traceback (most recent call last)",
      "\u001b[1;32mC:\\Users\\RADIOA~1\\AppData\\Local\\Temp/ipykernel_12496/551974202.py\u001b[0m in \u001b[0;36m<module>\u001b[1;34m\u001b[0m\n\u001b[0;32m      1\u001b[0m \u001b[1;31m# syntax error\u001b[0m\u001b[1;33m\u001b[0m\u001b[1;33m\u001b[0m\u001b[1;33m\u001b[0m\u001b[0m\n\u001b[0;32m      2\u001b[0m \u001b[1;33m\u001b[0m\u001b[0m\n\u001b[1;32m----> 3\u001b[1;33m \u001b[0mpin\u001b[0m\u001b[1;33m(\u001b[0m\u001b[1;34m\"hej\"\u001b[0m\u001b[1;33m)\u001b[0m\u001b[1;33m\u001b[0m\u001b[1;33m\u001b[0m\u001b[0m\n\u001b[0m",
      "\u001b[1;31mNameError\u001b[0m: name 'pin' is not defined"
     ]
    }
   ],
   "metadata": {}
  },
  {
   "cell_type": "code",
   "execution_count": 6,
   "source": [
    "##logical error\r\n",
    "import math\r\n",
    "\r\n",
    "print(math.pi)\r\n",
    "\r\n",
    "area_circle = lambda radius : 2*math.pi*radius\r\n",
    "\r\n",
    "print(area_circle(10))\r\n",
    "\r\n",
    "# har to find the logical error\r\n",
    "#a=pi r^2\r\n",
    "#o=2*pi*r\r\n"
   ],
   "outputs": [
    {
     "output_type": "stream",
     "name": "stdout",
     "text": [
      "3.141592653589793\n",
      "62.83185307179586\n"
     ]
    }
   ],
   "metadata": {}
  },
  {
   "cell_type": "code",
   "execution_count": 9,
   "source": [
    "# exception errors\r\n",
    "numbers = list(range(10))\r\n",
    "print(numbers)\r\n",
    "print(numbers[6])\r\n",
    "\r\n",
    "print(numbers[10]) # index 10 dosent exist in this list\r\n"
   ],
   "outputs": [
    {
     "output_type": "stream",
     "name": "stdout",
     "text": [
      "[0, 1, 2, 3, 4, 5, 6, 7, 8, 9]\n",
      "6\n"
     ]
    },
    {
     "output_type": "error",
     "ename": "IndexError",
     "evalue": "list index out of range",
     "traceback": [
      "\u001b[1;31m---------------------------------------------------------------------------\u001b[0m",
      "\u001b[1;31mIndexError\u001b[0m                                Traceback (most recent call last)",
      "\u001b[1;32mC:\\Users\\RADIOA~1\\AppData\\Local\\Temp/ipykernel_12496/39559677.py\u001b[0m in \u001b[0;36m<module>\u001b[1;34m\u001b[0m\n\u001b[0;32m      4\u001b[0m \u001b[0mprint\u001b[0m\u001b[1;33m(\u001b[0m\u001b[0mnumbers\u001b[0m\u001b[1;33m[\u001b[0m\u001b[1;36m6\u001b[0m\u001b[1;33m]\u001b[0m\u001b[1;33m)\u001b[0m\u001b[1;33m\u001b[0m\u001b[1;33m\u001b[0m\u001b[0m\n\u001b[0;32m      5\u001b[0m \u001b[1;33m\u001b[0m\u001b[0m\n\u001b[1;32m----> 6\u001b[1;33m \u001b[0mprint\u001b[0m\u001b[1;33m(\u001b[0m\u001b[0mnumbers\u001b[0m\u001b[1;33m[\u001b[0m\u001b[1;36m10\u001b[0m\u001b[1;33m]\u001b[0m\u001b[1;33m)\u001b[0m\u001b[1;33m\u001b[0m\u001b[1;33m\u001b[0m\u001b[0m\n\u001b[0m",
      "\u001b[1;31mIndexError\u001b[0m: list index out of range"
     ]
    }
   ],
   "metadata": {}
  },
  {
   "cell_type": "code",
   "execution_count": null,
   "source": [
    "print (\"hej\")\r\n",
    "namn = input(\"vad heter du\")\r\n",
    "#print = name - overwrits print\r\n",
    "\r\n",
    "print(name)\r\n"
   ],
   "outputs": [],
   "metadata": {}
  },
  {
   "cell_type": "code",
   "execution_count": null,
   "source": [
    "age = int(input(\"hur gammael är du?\"))# user kan skrivqa  in skumma saker\r\n",
    "\r\n",
    "print(f\"du är {age}\")"
   ],
   "outputs": [],
   "metadata": {}
  },
  {
   "cell_type": "markdown",
   "source": [
    "## try-except\r\n",
    "\r\n",
    "- try block\r\n",
    "- exept block\r\n",
    "- raise"
   ],
   "metadata": {}
  },
  {
   "cell_type": "code",
   "execution_count": 4,
   "source": [
    "age = input(\"hur ga\")\r\n",
    "\r\n",
    "try:\r\n",
    "    age = float(age)\r\n",
    "    if not 0 <= age <= 125:\r\n",
    "        raise ValueError(f\"åldern ska vara mellan 0 och 125 inte {age}\")\r\n",
    "\r\n",
    "except ValueError as err:\r\n",
    "    print(err)\r\n",
    "\r\n",
    "print(\"programmet fortsätter\")"
   ],
   "outputs": [
    {
     "output_type": "stream",
     "name": "stdout",
     "text": [
      "åldern ska vara mellan o och 125 inte -5.0\n",
      "programmet fortsätter\n"
     ]
    }
   ],
   "metadata": {}
  },
  {
   "cell_type": "code",
   "execution_count": 8,
   "source": [
    "while True:\r\n",
    "    age = input(\"hur ga\")\r\n",
    "\r\n",
    "    try:\r\n",
    "        age = float(age)\r\n",
    "        if not 0 <= age <= 125:\r\n",
    "            raise ValueError(f\"åldern ska vara mellan 0 och 125 inte {age}\")\r\n",
    "        break\r\n",
    "    except ValueError as err:\r\n",
    "        print(err)\r\n",
    "        print(\"skriv i siffror exempel 8\")\r\n",
    "\r\n",
    "    print(\"programmet fortsätter\")\r\n",
    "\r\n",
    "print(f\"du är age more gammal {age}\")"
   ],
   "outputs": [
    {
     "output_type": "stream",
     "name": "stdout",
     "text": [
      "du är age more gammal 5.5\n"
     ]
    }
   ],
   "metadata": {}
  }
 ],
 "metadata": {
  "orig_nbformat": 4,
  "language_info": {
   "name": "python",
   "version": "3.9.6",
   "mimetype": "text/x-python",
   "codemirror_mode": {
    "name": "ipython",
    "version": 3
   },
   "pygments_lexer": "ipython3",
   "nbconvert_exporter": "python",
   "file_extension": ".py"
  },
  "kernelspec": {
   "name": "python3",
   "display_name": "Python 3.9.6 64-bit ('pythonkurs-s4IvoQ70': pipenv)"
  },
  "interpreter": {
   "hash": "7844dc0ca27035570736aba6023ffa7617d905d828b6f4d4bd04534e2d076ee8"
  }
 },
 "nbformat": 4,
 "nbformat_minor": 2
}
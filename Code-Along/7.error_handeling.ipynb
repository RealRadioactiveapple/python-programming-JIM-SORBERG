{
 "cells": [
  {
   "cell_type": "markdown",
   "metadata": {},
   "source": [
    "# error typs\n",
    "\n",
    "- syntax error - python parser dont understand the code\n",
    "\n",
    "- logical errors - hard to find - gives unpredictable results\n",
    "\n",
    "- exeptions error - python parser know what to do, but cant do it"
   ]
  },
  {
   "cell_type": "code",
   "execution_count": 2,
   "metadata": {},
   "outputs": [
    {
     "ename": "NameError",
     "evalue": "name 'pin' is not defined",
     "output_type": "error",
     "traceback": [
      "\u001b[1;31m---------------------------------------------------------------------------\u001b[0m",
      "\u001b[1;31mNameError\u001b[0m                                 Traceback (most recent call last)",
      "\u001b[1;32mC:\\Users\\RADIOA~1\\AppData\\Local\\Temp/ipykernel_12496/551974202.py\u001b[0m in \u001b[0;36m<module>\u001b[1;34m\u001b[0m\n\u001b[0;32m      1\u001b[0m \u001b[1;31m# syntax error\u001b[0m\u001b[1;33m\u001b[0m\u001b[1;33m\u001b[0m\u001b[1;33m\u001b[0m\u001b[0m\n\u001b[0;32m      2\u001b[0m \u001b[1;33m\u001b[0m\u001b[0m\n\u001b[1;32m----> 3\u001b[1;33m \u001b[0mpin\u001b[0m\u001b[1;33m(\u001b[0m\u001b[1;34m\"hej\"\u001b[0m\u001b[1;33m)\u001b[0m\u001b[1;33m\u001b[0m\u001b[1;33m\u001b[0m\u001b[0m\n\u001b[0m",
      "\u001b[1;31mNameError\u001b[0m: name 'pin' is not defined"
     ]
    }
   ],
   "source": [
    "# syntax error\n",
    "\n",
    "pin(\"hej\")\n",
    "\n",
    "#practice reading error messages!!\n"
   ]
  },
  {
   "cell_type": "code",
   "execution_count": 6,
   "metadata": {},
   "outputs": [
    {
     "name": "stdout",
     "output_type": "stream",
     "text": [
      "3.141592653589793\n",
      "62.83185307179586\n"
     ]
    }
   ],
   "source": [
    "##logical error\n",
    "import math\n",
    "\n",
    "print(math.pi)\n",
    "\n",
    "area_circle = lambda radius : 2*math.pi*radius\n",
    "\n",
    "print(area_circle(10))\n",
    "\n",
    "# har to find the logical error\n",
    "#a=pi r^2\n",
    "#o=2*pi*r\n"
   ]
  },
  {
   "cell_type": "code",
   "execution_count": 9,
   "metadata": {},
   "outputs": [
    {
     "name": "stdout",
     "output_type": "stream",
     "text": [
      "[0, 1, 2, 3, 4, 5, 6, 7, 8, 9]\n",
      "6\n"
     ]
    },
    {
     "ename": "IndexError",
     "evalue": "list index out of range",
     "output_type": "error",
     "traceback": [
      "\u001b[1;31m---------------------------------------------------------------------------\u001b[0m",
      "\u001b[1;31mIndexError\u001b[0m                                Traceback (most recent call last)",
      "\u001b[1;32mC:\\Users\\RADIOA~1\\AppData\\Local\\Temp/ipykernel_12496/39559677.py\u001b[0m in \u001b[0;36m<module>\u001b[1;34m\u001b[0m\n\u001b[0;32m      4\u001b[0m \u001b[0mprint\u001b[0m\u001b[1;33m(\u001b[0m\u001b[0mnumbers\u001b[0m\u001b[1;33m[\u001b[0m\u001b[1;36m6\u001b[0m\u001b[1;33m]\u001b[0m\u001b[1;33m)\u001b[0m\u001b[1;33m\u001b[0m\u001b[1;33m\u001b[0m\u001b[0m\n\u001b[0;32m      5\u001b[0m \u001b[1;33m\u001b[0m\u001b[0m\n\u001b[1;32m----> 6\u001b[1;33m \u001b[0mprint\u001b[0m\u001b[1;33m(\u001b[0m\u001b[0mnumbers\u001b[0m\u001b[1;33m[\u001b[0m\u001b[1;36m10\u001b[0m\u001b[1;33m]\u001b[0m\u001b[1;33m)\u001b[0m\u001b[1;33m\u001b[0m\u001b[1;33m\u001b[0m\u001b[0m\n\u001b[0m",
      "\u001b[1;31mIndexError\u001b[0m: list index out of range"
     ]
    }
   ],
   "source": [
    "# exception errors\n",
    "numbers = list(range(10))\n",
    "print(numbers)\n",
    "print(numbers[6])\n",
    "\n",
    "print(numbers[10]) # index 10 dosent exist in this list\n"
   ]
  },
  {
   "cell_type": "code",
   "execution_count": null,
   "metadata": {},
   "outputs": [],
   "source": [
    "print (\"hej\")\n",
    "namn = input(\"vad heter du\")\n",
    "#print = name - overwrits print\n",
    "\n",
    "print(name)\n"
   ]
  },
  {
   "cell_type": "code",
   "execution_count": null,
   "metadata": {},
   "outputs": [],
   "source": [
    "age = int(input(\"hur gammael är du?\"))# user kan skrivqa  in skumma saker\n",
    "\n",
    "print(f\"du är {age}\")"
   ]
  },
  {
   "cell_type": "markdown",
   "metadata": {},
   "source": [
    "## try-except\n",
    "\n",
    "- try block\n",
    "- exept block\n",
    "- raise"
   ]
  },
  {
   "cell_type": "code",
   "execution_count": 4,
   "metadata": {},
   "outputs": [
    {
     "name": "stdout",
     "output_type": "stream",
     "text": [
      "åldern ska vara mellan o och 125 inte -5.0\n",
      "programmet fortsätter\n"
     ]
    }
   ],
   "source": [
    "age = input(\"hur ga\")\n",
    "\n",
    "try:\n",
    "    age = float(age)\n",
    "    if not 0 <= age <= 125:\n",
    "        raise ValueError(f\"åldern ska vara mellan 0 och 125 inte {age}\")\n",
    "\n",
    "except ValueError as err:\n",
    "    print(err)\n",
    "\n",
    "print(\"programmet fortsätter\")"
   ]
  },
  {
   "cell_type": "code",
   "execution_count": 1,
   "metadata": {},
   "outputs": [
    {
     "name": "stdout",
     "output_type": "stream",
     "text": [
      "åldern ska vara mellan 0 och 125 inte -5.0\n",
      "skriv i siffror exempel 8\n",
      "programmet fortsätter\n",
      "du är age more gammal 5.0\n"
     ]
    }
   ],
   "source": [
    "while True:\n",
    "    age = input(\"hur ga\")\n",
    "\n",
    "    try:\n",
    "        age = float(age)\n",
    "        if not 0 <= age <= 125:\n",
    "            raise ValueError(f\"åldern ska vara mellan 0 och 125 inte {age}\")\n",
    "        break\n",
    "    except ValueError as err:\n",
    "        print(err)\n",
    "        print(\"skriv i siffror exempel 8\")\n",
    "\n",
    "    print(\"programmet fortsätter\")\n",
    "\n",
    "print(f\"du är age more gammal {age}\")"
   ]
  }
 ],
 "metadata": {
  "interpreter": {
   "hash": "7844dc0ca27035570736aba6023ffa7617d905d828b6f4d4bd04534e2d076ee8"
  },
  "kernelspec": {
   "display_name": "Python 3.9.6 64-bit ('pythonkurs-s4IvoQ70': pipenv)",
   "name": "python3"
  },
  "language_info": {
   "codemirror_mode": {
    "name": "ipython",
    "version": 3
   },
   "file_extension": ".py",
   "mimetype": "text/x-python",
   "name": "python",
   "nbconvert_exporter": "python",
   "pygments_lexer": "ipython3",
   "version": "3.9.6"
  },
  "orig_nbformat": 4
 },
 "nbformat": 4,
 "nbformat_minor": 2
}

{
 "cells": [
  {
   "cell_type": "markdown",
   "source": [
    "# Richu and Pikachu identifyer"
   ],
   "metadata": {}
  },
  {
   "cell_type": "markdown",
   "source": [
    "## Read and data Restructure"
   ],
   "metadata": {}
  },
  {
   "cell_type": "code",
   "execution_count": 16,
   "source": [
    "import math\r\n",
    "import re\r\n",
    "import matplotlib.pyplot as plt\r\n",
    "import numpy as np\r\n",
    "PicDATA = \"data/pichu.txt\"\r\n",
    "PikaDATA = \"data/pikachu.txt\"\r\n",
    "\r\n",
    "with open(PicDATA, \"r\") as P1, open(PikaDATA, \"r\") as P2:\r\n",
    "    #P1data = P1.read()\r\n",
    "    #P2data = P2.read()\r\n",
    "    P1data = [P1d.strip(\"\\n ()\") for P1d in P1.readlines()]\r\n",
    "    new = np.delete(P1data,[0])\r\n",
    "    P11data = np.array([P1d.split(\",\") for P1d in new])\r\n",
    "    fP11data = P11data.astype(float)\r\n",
    "\r\n",
    "    P2data = [P2d.strip(\"\\n ()\") for P2d in P2.readlines()]\r\n",
    "    new2 = np.delete(P2data,[0])\r\n",
    "    P22data = np.array([P2d.split(\",\") for P2d in new2])\r\n",
    "    fP22data = P22data.astype(float)\r\n",
    "\r\n",
    "print(f\"{fP11data}\")\r\n",
    "\r\n",
    "#plt.show()\r\n",
    "#print(P2data)"
   ],
   "outputs": [
    {
     "output_type": "stream",
     "name": "stdout",
     "text": [
      "[[20.11541439 28.70180967]\n",
      " [15.20008604 27.09507031]\n",
      " [17.20023455 27.66977822]\n",
      " [16.78568591 34.36654588]\n",
      " [20.89176971 31.48035385]\n",
      " [20.4135959  31.09131006]\n",
      " [22.13743654 26.71138648]\n",
      " [15.69551066 32.29126798]\n",
      " [18.37537456 26.63402494]\n",
      " [15.23837776 28.79455442]\n",
      " [16.7491038  34.89523351]\n",
      " [19.0428423  31.3999976 ]\n",
      " [15.21228776 30.56949744]\n",
      " [16.59070121 31.84614251]\n",
      " [20.1990755  33.4285192 ]\n",
      " [19.35953184 32.75999912]\n",
      " [16.76352498 27.29048072]\n",
      " [19.71412547 25.32100244]\n",
      " [21.47544365 28.15453048]\n",
      " [15.05199008 27.67740876]\n",
      " [21.44655401 27.10982844]\n",
      " [20.58511516 34.42909714]\n",
      " [17.72200413 33.76367626]\n",
      " [16.243836   28.14677881]\n",
      " [22.65770458 31.55438665]\n",
      " [17.69275636 28.95631901]\n",
      " [15.74196675 34.1454759 ]\n",
      " [15.77373101 29.58851853]\n",
      " [21.77995493 27.64880166]\n",
      " [19.82980825 27.46627508]\n",
      " [21.45702619 30.61368134]\n",
      " [20.83785429 27.62741609]\n",
      " [19.28982473 30.8458599 ]\n",
      " [22.78492611 33.97822884]\n",
      " [18.02827502 28.99400505]\n",
      " [19.41632505 27.19320759]\n",
      " [21.63523731 34.97537606]\n",
      " [19.94815802 30.09526294]\n",
      " [21.8936552  25.90909412]\n",
      " [19.61881716 25.47116375]\n",
      " [20.63657469 26.0964913 ]\n",
      " [15.36659507 31.27446042]\n",
      " [16.82318621 32.92079364]\n",
      " [17.31510371 29.22159967]\n",
      " [15.63833582 25.63527706]\n",
      " [16.86232709 28.81619287]\n",
      " [15.80801144 34.9612138 ]\n",
      " [17.22378882 30.29114345]\n",
      " [20.08547555 34.71078378]\n",
      " [17.91865743 33.60779702]]\n"
     ]
    }
   ],
   "metadata": {}
  },
  {
   "cell_type": "markdown",
   "source": [
    "## Ploting Graph"
   ],
   "metadata": {}
  },
  {
   "cell_type": "code",
   "execution_count": 12,
   "source": [
    "colors = np.random.randint(50, size=50)\r\n",
    "\r\n",
    "x, y = fP11data.T\r\n",
    "plt.scatter(x,y, c=colors, cmap='nipy_spectral')\r\n",
    "x1, y1 = fP22data.T\r\n",
    "plt.scatter(x1,y1, c=colors, cmap='nipy_spectral')"
   ],
   "outputs": [
    {
     "output_type": "execute_result",
     "data": {
      "text/plain": [
       "<matplotlib.collections.PathCollection at 0x1b107460>"
      ]
     },
     "metadata": {},
     "execution_count": 12
    },
    {
     "output_type": "display_data",
     "data": {
      "image/png": "[encoded data removed]",
      "text/plain": [
       "<Figure size 432x288 with 1 Axes>"
      ]
     },
     "metadata": {
      "needs_background": "light"
     }
    }
   ],
   "metadata": {}
  },
  {
   "cell_type": "markdown",
   "source": [
    "## Input read and calculation"
   ],
   "metadata": {}
  },
  {
   "cell_type": "code",
   "execution_count": 17,
   "source": [
    "while True:\r\n",
    "    Pokw = input(\"enter how width the Pokemon is: \")\r\n",
    "    \r\n",
    "    try:\r\n",
    "        Pokw = float(Pokw) \r\n",
    "        if not 0 < Pokw:\r\n",
    "            raise ValueError(f\"to small of a pokemon\")\r\n",
    "        break\r\n",
    "    except ValueError as err:\r\n",
    "        print(err)\r\n",
    "        print(\"Only nummbers and positiv plz\")\r\n",
    "    print(\"try again\")\r\n",
    "\r\n",
    "while True:\r\n",
    "    Pokh = input(\"whats the pokemons height \")\r\n",
    "    \r\n",
    "    try:\r\n",
    "        Pokh = float(Pokh) \r\n",
    "        if not 0 < Pokh:\r\n",
    "            raise ValueError(f\"to small of a pokemon\")\r\n",
    "        break\r\n",
    "    except ValueError as err:\r\n",
    "        print(err)\r\n",
    "        print(\"Only nummbers and positiv plz\")\r\n",
    "    print(\"try again\")\r\n",
    "\r\n",
    "\r\n"
   ],
   "outputs": [],
   "metadata": {}
  },
  {
   "cell_type": "code",
   "execution_count": 24,
   "source": [
    "\r\n",
    "closestPo = np.sqrt(((Pokw-x)**2)+((Pokh-y)**2))\r\n",
    "print(closestPo)\r\n",
    "print(closestPo.min())\r\n",
    "closestPo2 = np.sqrt(((Pokw-x1)**2)+((Pokh-y1)**2))\r\n",
    "print (closestPo2)\r\n",
    "print(closestPo2.min())\r\n",
    "\r\n",
    "pichuMin = closestPo2.min()\r\n",
    "\r\n",
    "pikaMin = closestPo.min()"
   ],
   "outputs": [
    {
     "output_type": "stream",
     "name": "stdout",
     "text": [
      "[22.07219737 26.69500141 24.84287095 21.0910309  19.54029155 20.15477215\n",
      " 22.35886677 23.11223006 24.77271102 25.55656824 20.86148408 20.96642428\n",
      " 24.49067088 22.62578726 18.7874036  19.86056056 25.42038738 24.91828455\n",
      " 21.60285786 26.41960006 22.44446784 17.87548299 20.61029142 25.21556568\n",
      " 18.25148691 23.59958436 22.10639134 24.64068141 21.81361216 23.18547449\n",
      " 19.75799343 22.41367982 21.14590478 16.45258246 23.328766   23.66289883\n",
      " 16.70658453 21.18275558 23.15683401 24.85872544 23.74132742 23.95539659\n",
      " 21.82438512 23.70049522 27.38369103 24.30824535 21.65893934 23.07258427\n",
      " 18.11935457 20.5317937 ]\n",
      "16.452582462469753\n",
      "[16.8622975   9.05557213 10.45735631 11.60646198 16.3600386  12.11432293\n",
      " 17.002697   12.48133596 13.88515932  9.57367896 11.3323621  14.3225555\n",
      " 13.42752371 14.88625357  6.2091998  11.37025072 15.43127335  9.90227787\n",
      " 12.47734638 17.47265488  7.87631301 11.3678336   9.29673627 10.85164428\n",
      " 17.10182604 15.40840838 19.04367375  8.1610251   8.65433661  8.81401509\n",
      " 13.58276766 16.62885356  6.46582407 10.63279681 17.05274121 12.97608897\n",
      " 16.22851056 10.88266057 11.25042469 16.41318779 12.68997693 12.65933408\n",
      " 15.7242696   6.57572895 13.15874767 14.52474992 11.44853385 12.57177332\n",
      " 14.586189   13.36040804]\n",
      "6.209199800836012\n"
     ]
    }
   ],
   "metadata": {}
  }
 ],
 "metadata": {
  "orig_nbformat": 4,
  "language_info": {
   "name": "python",
   "version": "3.9.6",
   "mimetype": "text/x-python",
   "codemirror_mode": {
    "name": "ipython",
    "version": 3
   },
   "pygments_lexer": "ipython3",
   "nbconvert_exporter": "python",
   "file_extension": ".py"
  },
  "kernelspec": {
   "name": "python3",
   "display_name": "Python 3.9.6 64-bit ('pythonkurs-s4IvoQ70': pipenv)"
  },
  "interpreter": {
   "hash": "7844dc0ca27035570736aba6023ffa7617d905d828b6f4d4bd04534e2d076ee8"
  }
 },
 "nbformat": 4,
 "nbformat_minor": 2
}
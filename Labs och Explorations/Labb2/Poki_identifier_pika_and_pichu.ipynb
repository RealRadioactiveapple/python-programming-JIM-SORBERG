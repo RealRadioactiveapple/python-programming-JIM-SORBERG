{
 "cells": [
  {
   "cell_type": "markdown",
   "source": [
    "# Richu and Pikachu identifyer"
   ],
   "metadata": {}
  },
  {
   "cell_type": "markdown",
   "source": [
    "## Read and data Restructure"
   ],
   "metadata": {}
  },
  {
   "cell_type": "code",
   "execution_count": 78,
   "source": [
    "import matplotlib.pyplot as plt\r\n",
    "import numpy as np\r\n",
    "PicDATA = \"data/pichu.txt\"#sets the text documnet as the value picdata\r\n",
    "PikaDATA = \"data/pikachu.txt\"\r\n",
    "\r\n",
    "with open(PicDATA, \"r\") as P1, open(PikaDATA, \"r\") as P2: # defenerar hur var vi ska hämta data och att vi bara ska läsa den definerar p1 pichu och p2 som picka\r\n",
    "    \r\n",
    "    #everything with 1 is pichu and everthing with 2 is pika\r\n",
    "    P1data = [P1d.strip(\"\\n ()\") for P1d in P1.readlines()] #clean the text from () and Line break also creating a list\r\n",
    "    new1 = np.delete(P1data,[0])#removing the first index Withc only had leters.\r\n",
    "    P11data = np.array([P1d.split(\",\") for P1d in new1])#creat a array whit list in a list\r\n",
    "    fP11data = P11data.astype(float) #converting list typs from string to float\r\n",
    "\r\n",
    "    #did the same here as I did on the once above\r\n",
    "    P2data = [P2d.strip(\"\\n ()\") for P2d in P2.readlines()]\r\n",
    "    new2 = np.delete(P2data,[0])\r\n",
    "    P22data = np.array([P2d.split(\",\") for P2d in new2])\r\n",
    "    fP22data = P22data.astype(float)\r\n",
    "\r\n",
    "print(f\"{fP11data}\") # printed the data to see that everything works\r\n",
    "\r\n"
   ],
   "outputs": [
    {
     "output_type": "stream",
     "name": "stdout",
     "text": [
      "[[20.11541439 28.70180967]\n",
      " [15.20008604 27.09507031]\n",
      " [17.20023455 27.66977822]\n",
      " [16.78568591 34.36654588]\n",
      " [20.89176971 31.48035385]\n",
      " [20.4135959  31.09131006]\n",
      " [22.13743654 26.71138648]\n",
      " [15.69551066 32.29126798]\n",
      " [18.37537456 26.63402494]\n",
      " [15.23837776 28.79455442]\n",
      " [16.7491038  34.89523351]\n",
      " [19.0428423  31.3999976 ]\n",
      " [15.21228776 30.56949744]\n",
      " [16.59070121 31.84614251]\n",
      " [20.1990755  33.4285192 ]\n",
      " [19.35953184 32.75999912]\n",
      " [16.76352498 27.29048072]\n",
      " [19.71412547 25.32100244]\n",
      " [21.47544365 28.15453048]\n",
      " [15.05199008 27.67740876]\n",
      " [21.44655401 27.10982844]\n",
      " [20.58511516 34.42909714]\n",
      " [17.72200413 33.76367626]\n",
      " [16.243836   28.14677881]\n",
      " [22.65770458 31.55438665]\n",
      " [17.69275636 28.95631901]\n",
      " [15.74196675 34.1454759 ]\n",
      " [15.77373101 29.58851853]\n",
      " [21.77995493 27.64880166]\n",
      " [19.82980825 27.46627508]\n",
      " [21.45702619 30.61368134]\n",
      " [20.83785429 27.62741609]\n",
      " [19.28982473 30.8458599 ]\n",
      " [22.78492611 33.97822884]\n",
      " [18.02827502 28.99400505]\n",
      " [19.41632505 27.19320759]\n",
      " [21.63523731 34.97537606]\n",
      " [19.94815802 30.09526294]\n",
      " [21.8936552  25.90909412]\n",
      " [19.61881716 25.47116375]\n",
      " [20.63657469 26.0964913 ]\n",
      " [15.36659507 31.27446042]\n",
      " [16.82318621 32.92079364]\n",
      " [17.31510371 29.22159967]\n",
      " [15.63833582 25.63527706]\n",
      " [16.86232709 28.81619287]\n",
      " [15.80801144 34.9612138 ]\n",
      " [17.22378882 30.29114345]\n",
      " [20.08547555 34.71078378]\n",
      " [17.91865743 33.60779702]]\n"
     ]
    }
   ],
   "metadata": {}
  },
  {
   "cell_type": "markdown",
   "source": [
    "## Ploting Graph"
   ],
   "metadata": {}
  },
  {
   "cell_type": "code",
   "execution_count": 79,
   "source": [
    "colors = np.random.randint(50, size=50)#use this code to generate random colors for the scater dots\r\n",
    "\r\n",
    "x1, y1 = fP11data.T #reads the data in to x and y to get them ready for the scatter\r\n",
    "plt.scatter(x1,y1, c=colors, cmap='nipy_spectral')#use scatter to dot up every point from the data sheet\r\n",
    "x2, y2 = fP22data.T\r\n",
    "plt.scatter(x2,y2, c=colors, cmap='nipy_spectral')"
   ],
   "outputs": [
    {
     "output_type": "execute_result",
     "data": {
      "text/plain": [
       "<matplotlib.collections.PathCollection at 0x1bba8b80>"
      ]
     },
     "metadata": {},
     "execution_count": 79
    },
    {
     "output_type": "display_data",
     "data": {
      "image/png": "[encoded data removed]",
      "text/plain": [
       "<Figure size 432x288 with 1 Axes>"
      ]
     },
     "metadata": {
      "needs_background": "light"
     }
    }
   ],
   "metadata": {}
  },
  {
   "cell_type": "markdown",
   "source": [
    "## Input read "
   ],
   "metadata": {}
  },
  {
   "cell_type": "code",
   "execution_count": 80,
   "source": [
    "while True: # use a while loop to cheak the inputs from the user\r\n",
    "    Pokw = input(\"enter how width the Pokemon is: \")# reads the user input of the weitgh of the pokemon\r\n",
    "    \r\n",
    "    try:\r\n",
    "        Pokw = float(Pokw) #converts the input to float if its leter it sends it down to exept and you have to do it again\r\n",
    "        if not 0 < Pokw: #cheacks if the number is positiv and not 0\r\n",
    "            raise ValueError(f\"to small of a pokemon\")\r\n",
    "        break\r\n",
    "    except ValueError as err:\r\n",
    "        print(err)\r\n",
    "        print(\"Only nummbers and positiv plz\")\r\n",
    "    print(\"try again\")\r\n",
    "\r\n",
    "while True:\r\n",
    "    Pokh = input(\"whats the pokemons height \") #reads the input from the height of the pokemon\r\n",
    "    \r\n",
    "    try:\r\n",
    "        Pokh = float(Pokh) \r\n",
    "        if not 0 < Pokh:\r\n",
    "            raise ValueError(f\"to small of a pokemon\")\r\n",
    "        break\r\n",
    "    except ValueError as err:\r\n",
    "        print(err)\r\n",
    "        print(\"Only nummbers and positiv plz\")\r\n",
    "    print(\"try again\")\r\n",
    "\r\n",
    "\r\n"
   ],
   "outputs": [],
   "metadata": {}
  },
  {
   "cell_type": "markdown",
   "source": [
    "# calculation"
   ],
   "metadata": {}
  },
  {
   "cell_type": "code",
   "execution_count": 81,
   "source": [
    "\r\n",
    "closestPo = np.sqrt(((Pokw-x1)**2)+((Pokh-y1)**2))#Calculates the data the input vs tha data sheet\r\n",
    "closestPo.sort()#sorts the data \r\n",
    "print(closestPo)\r\n",
    "print(closestPo.min())#prints out the smalest number in the list\r\n",
    "closestPo2 = np.sqrt(((Pokw-x2)**2)+((Pokh-y2)**2))\r\n",
    "\r\n",
    "closestPo2.sort()\r\n",
    "print (closestPo2)\r\n",
    "print(closestPo2.min())\r\n",
    "\r\n",
    "\r\n",
    "\r\n",
    "pikaMin = closestPo2.min() #takes out the smallest data in the calculation\r\n",
    "pichuMin = closestPo.min()\r\n",
    "\r\n",
    "if pichuMin < pikaMin: #compers the smallest calcultaion with eatch outehr\r\n",
    "        print(\"You Pokemon is a Pichu\" )\r\n",
    "else:\r\n",
    "        print(\"Your pokemon is a Pikachu\")\r\n",
    "\r\n"
   ],
   "outputs": [
    {
     "output_type": "stream",
     "name": "stdout",
     "text": [
      "[10.03125799 10.46581934 10.66517165 11.04968545 11.38763438 11.71078549\n",
      " 11.79482729 11.84311691 12.02315349 12.10122497 12.52156914 12.52931258\n",
      " 13.14178935 13.46168985 13.56499194 13.91778887 13.99886902 14.18655897\n",
      " 14.22267487 14.39656157 14.411271   15.04530633 15.24442514 15.46488455\n",
      " 15.94717661 16.40678734 16.45922751 16.49140605 16.61180446 16.62167822\n",
      " 16.8536347  16.97973193 17.35259357 17.41141162 17.55949891 17.6675194\n",
      " 17.80911251 17.89873015 17.98261203 17.99325518 18.28912992 18.467478\n",
      " 18.66405661 18.72022835 18.95261379 19.09120207 19.15268485 19.6734714\n",
      " 19.81131413 20.38291602]\n",
      "10.031257989715728\n",
      "[ 1.58620347  1.66011626  2.01231221  2.08325036  2.72690016  3.19820719\n",
      "  3.45815856  3.78324993  3.86253233  4.29307647  4.43293195  4.64665715\n",
      "  4.94037948  4.9511512   5.13120912  5.19034452  5.40783716  5.67200825\n",
      "  5.81967304  6.02690769  6.03745562  6.51454681  6.53803302  6.67232043\n",
      "  6.85623143  7.00356595  7.09182967  7.13414209  7.5073808   7.54654375\n",
      "  7.63144626  7.66795022  7.83322703  7.9675128   8.01039994  8.09664984\n",
      "  8.52542542  8.58701934  8.72116782  8.82611593  8.94312698  9.09616275\n",
      "  9.13679916  9.61833654  9.78459267 10.62016846 10.78173911 11.30859829\n",
      " 11.3440975  11.6406441 ]\n",
      "1.586203468458903\n",
      "Your pokemon is a Pikachu\n"
     ]
    }
   ],
   "metadata": {}
  },
  {
   "cell_type": "markdown",
   "source": [
    "# Finding the five closest points"
   ],
   "metadata": {}
  },
  {
   "cell_type": "code",
   "execution_count": 82,
   "source": [
    "\r\n",
    "closetfive = 0\r\n",
    "pichuMinC = 0\r\n",
    "pikaMinC = 0\r\n",
    "\r\n",
    "\r\n",
    "while closetfive < 5: #while loop to finde the 5 shortest points\r\n",
    "    pichuMin = closestPo.min() #updates the smallest value\r\n",
    "    pikaMin = closestPo2.min()\r\n",
    "\r\n",
    "    if pichuMin > pikaMin:#if the number is smaller it does this\r\n",
    "        pikaMinC += 1 #adds a 1 to every try if Pika is the closest point\r\n",
    "        closetfive += 1 #adds 1 counter to the five count\r\n",
    "        print(pikaMin)\r\n",
    "        closestPo2 = np.delete(closestPo2,0)# delets the shortest value in the list\r\n",
    "    else:\r\n",
    "        pichuMinC += 1\r\n",
    "        closetfive += 1\r\n",
    "        print(pichuMin)\r\n",
    "        closestPo = np.delete(closestPo,0)\r\n",
    "\r\n",
    "\r\n",
    "\r\n",
    "if pichuMinC < pikaMinC:#compers the values and the one with more counts is the right pokemon\r\n",
    "        print(\"You Pokemon is a Pikachu\" )\r\n",
    "else:\r\n",
    "        print(\"Your pokemon is a Pichu\")"
   ],
   "outputs": [
    {
     "output_type": "stream",
     "name": "stdout",
     "text": [
      "1.586203468458903\n",
      "1.660116255678705\n",
      "2.012312214318831\n",
      "2.0832503592042473\n",
      "2.7269001577480316\n",
      "You Pokemon is a Pikachu\n"
     ]
    }
   ],
   "metadata": {}
  }
 ],
 "metadata": {
  "orig_nbformat": 4,
  "language_info": {
   "name": "python",
   "version": "3.9.6",
   "mimetype": "text/x-python",
   "codemirror_mode": {
    "name": "ipython",
    "version": 3
   },
   "pygments_lexer": "ipython3",
   "nbconvert_exporter": "python",
   "file_extension": ".py"
  },
  "kernelspec": {
   "name": "python3",
   "display_name": "Python 3.9.6 64-bit ('pythonkurs-s4IvoQ70': pipenv)"
  },
  "interpreter": {
   "hash": "7844dc0ca27035570736aba6023ffa7617d905d828b6f4d4bd04534e2d076ee8"
  }
 },
 "nbformat": 4,
 "nbformat_minor": 2
}
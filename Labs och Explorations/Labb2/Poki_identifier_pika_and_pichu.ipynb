{
 "cells": [
  {
   "cell_type": "markdown",
   "source": [
    "# Richu and Pikachu identifyer"
   ],
   "metadata": {}
  },
  {
   "cell_type": "markdown",
   "source": [
    "## Read and data Restructure"
   ],
   "metadata": {}
  },
  {
   "cell_type": "code",
   "execution_count": 2,
   "source": [
    "import math\r\n",
    "import re\r\n",
    "import matplotlib.pyplot as plt\r\n",
    "import numpy as np\r\n",
    "PicDATA = \"data/pichu.txt\"\r\n",
    "PikaDATA = \"data/pikachu.txt\"\r\n",
    "\r\n",
    "with open(PicDATA, \"r\") as P1, open(PikaDATA, \"r\") as P2:\r\n",
    "    #P1data = P1.read()\r\n",
    "    #P2data = P2.read()\r\n",
    "    P1data = [P1d.strip(\"\\n ()\") for P1d in P1.readlines()]\r\n",
    "    new = np.delete(P1data,[0])\r\n",
    "    P11data = np.array([P1d.split(\",\") for P1d in new])\r\n",
    "    fP11data = P11data.astype(float)\r\n",
    "\r\n",
    "    P2data = [P2d.strip(\"\\n ()\") for P2d in P2.readlines()]\r\n",
    "    new2 = np.delete(P2data,[0])\r\n",
    "    P22data = np.array([P2d.split(\",\") for P2d in new2])\r\n",
    "    fP22data = P22data.astype(float)\r\n",
    "\r\n",
    "print(f\"{fP11data}\")\r\n",
    "\r\n",
    "#plt.show()\r\n",
    "#print(P2data)"
   ],
   "outputs": [
    {
     "output_type": "stream",
     "name": "stdout",
     "text": [
      "[[20.11541439 28.70180967]\n",
      " [15.20008604 27.09507031]\n",
      " [17.20023455 27.66977822]\n",
      " [16.78568591 34.36654588]\n",
      " [20.89176971 31.48035385]\n",
      " [20.4135959  31.09131006]\n",
      " [22.13743654 26.71138648]\n",
      " [15.69551066 32.29126798]\n",
      " [18.37537456 26.63402494]\n",
      " [15.23837776 28.79455442]\n",
      " [16.7491038  34.89523351]\n",
      " [19.0428423  31.3999976 ]\n",
      " [15.21228776 30.56949744]\n",
      " [16.59070121 31.84614251]\n",
      " [20.1990755  33.4285192 ]\n",
      " [19.35953184 32.75999912]\n",
      " [16.76352498 27.29048072]\n",
      " [19.71412547 25.32100244]\n",
      " [21.47544365 28.15453048]\n",
      " [15.05199008 27.67740876]\n",
      " [21.44655401 27.10982844]\n",
      " [20.58511516 34.42909714]\n",
      " [17.72200413 33.76367626]\n",
      " [16.243836   28.14677881]\n",
      " [22.65770458 31.55438665]\n",
      " [17.69275636 28.95631901]\n",
      " [15.74196675 34.1454759 ]\n",
      " [15.77373101 29.58851853]\n",
      " [21.77995493 27.64880166]\n",
      " [19.82980825 27.46627508]\n",
      " [21.45702619 30.61368134]\n",
      " [20.83785429 27.62741609]\n",
      " [19.28982473 30.8458599 ]\n",
      " [22.78492611 33.97822884]\n",
      " [18.02827502 28.99400505]\n",
      " [19.41632505 27.19320759]\n",
      " [21.63523731 34.97537606]\n",
      " [19.94815802 30.09526294]\n",
      " [21.8936552  25.90909412]\n",
      " [19.61881716 25.47116375]\n",
      " [20.63657469 26.0964913 ]\n",
      " [15.36659507 31.27446042]\n",
      " [16.82318621 32.92079364]\n",
      " [17.31510371 29.22159967]\n",
      " [15.63833582 25.63527706]\n",
      " [16.86232709 28.81619287]\n",
      " [15.80801144 34.9612138 ]\n",
      " [17.22378882 30.29114345]\n",
      " [20.08547555 34.71078378]\n",
      " [17.91865743 33.60779702]]\n"
     ]
    }
   ],
   "metadata": {}
  },
  {
   "cell_type": "markdown",
   "source": [
    "## Ploting Graph"
   ],
   "metadata": {}
  },
  {
   "cell_type": "code",
   "execution_count": 3,
   "source": [
    "colors = np.random.randint(50, size=50)\r\n",
    "\r\n",
    "x, y = fP11data.T\r\n",
    "plt.scatter(x,y, c=colors, cmap='nipy_spectral')\r\n",
    "x1, y1 = fP22data.T\r\n",
    "plt.scatter(x1,y1, c=colors, cmap='nipy_spectral')"
   ],
   "outputs": [
    {
     "output_type": "execute_result",
     "data": {
      "text/plain": [
       "<matplotlib.collections.PathCollection at 0x82ffc10>"
      ]
     },
     "metadata": {},
     "execution_count": 3
    },
    {
     "output_type": "display_data",
     "data": {
      "image/png": "[encoded data removed]",
      "text/plain": [
       "<Figure size 432x288 with 1 Axes>"
      ]
     },
     "metadata": {
      "needs_background": "light"
     }
    }
   ],
   "metadata": {}
  },
  {
   "cell_type": "markdown",
   "source": [
    "## Input read and calculation"
   ],
   "metadata": {}
  },
  {
   "cell_type": "code",
   "execution_count": 4,
   "source": [
    "while True:\r\n",
    "    Pokw = input(\"enter how width the Pokemon is: \")\r\n",
    "    \r\n",
    "    try:\r\n",
    "        Pokw = float(Pokw) \r\n",
    "        if not 0 < Pokw:\r\n",
    "            raise ValueError(f\"to small of a pokemon\")\r\n",
    "        break\r\n",
    "    except ValueError as err:\r\n",
    "        print(err)\r\n",
    "        print(\"Only nummbers and positiv plz\")\r\n",
    "    print(\"try again\")\r\n",
    "\r\n",
    "while True:\r\n",
    "    Pokh = input(\"whats the pokemons height \")\r\n",
    "    \r\n",
    "    try:\r\n",
    "        Pokh = float(Pokh) \r\n",
    "        if not 0 < Pokh:\r\n",
    "            raise ValueError(f\"to small of a pokemon\")\r\n",
    "        break\r\n",
    "    except ValueError as err:\r\n",
    "        print(err)\r\n",
    "        print(\"Only nummbers and positiv plz\")\r\n",
    "    print(\"try again\")\r\n",
    "\r\n",
    "\r\n"
   ],
   "outputs": [],
   "metadata": {}
  },
  {
   "cell_type": "code",
   "execution_count": 60,
   "source": [
    "\r\n",
    "closestPo = np.sqrt(((Pokw-x)**2)+((Pokh-y)**2))\r\n",
    "closestPo.sort()\r\n",
    "print(closestPo)\r\n",
    "print(closestPo.min())\r\n",
    "closestPo2 = np.sqrt(((Pokw-x1)**2)+((Pokh-y1)**2))\r\n",
    "\r\n",
    "closestPo2.sort()\r\n",
    "print (closestPo2)\r\n",
    "print(closestPo2.min())\r\n",
    "\r\n",
    "\r\n",
    "\r\n",
    "pikaMin = closestPo2.min()\r\n",
    "pichuMin = closestPo.min()\r\n",
    "\r\n",
    "if pichuMin < pikaMin:\r\n",
    "        print(\"You Pokemon is a Pichu\" )\r\n",
    "else:\r\n",
    "        print(\"Your pokemon is a Pikachu\")\r\n",
    "\r\n"
   ],
   "outputs": [
    {
     "output_type": "stream",
     "name": "stdout",
     "text": [
      "[20.10861025 20.14708866 21.2189048  21.35891318 22.1939836  22.21894106\n",
      " 23.27749717 23.28131129 23.64828727 23.67438663 23.69069824 23.70964676\n",
      " 23.88099118 24.0034607  24.38231973 24.5069576  24.77278123 24.94184936\n",
      " 24.94469441 24.95508975 25.69315401 25.85468669 25.96816625 25.98391426\n",
      " 26.19661235 26.47827189 26.54115126 26.60180167 26.60460596 27.0053934\n",
      " 27.13146553 27.16437882 27.24659964 27.28548107 27.42531714 27.62246739\n",
      " 27.73261592 27.88701695 27.88779058 28.04064898 28.55644332 28.67659258\n",
      " 28.79855838 28.95245401 28.98607659 29.02948296 29.12544055 29.93695341\n",
      " 30.27659817 31.12095378]\n",
      "20.1086102464119\n",
      "[ 8.26984642  8.71284404  8.80855392  9.66875807 11.91702903 12.18594323\n",
      " 12.48937129 12.49629262 12.55148118 12.81257986 12.81780953 13.80385064\n",
      " 13.95111431 14.04006166 14.17873041 14.42055393 14.7840004  14.82894954\n",
      " 14.89808295 15.10677269 15.24962835 15.38128709 15.42169455 15.61561239\n",
      " 15.69468452 15.72249556 15.7888279  15.80612065 15.93234339 16.0018294\n",
      " 16.04382202 16.101568   16.10740899 16.3409088  16.67305166 16.80488663\n",
      " 17.16933825 17.38382297 17.60176529 18.28065415 18.35000693 18.42074194\n",
      " 18.53046296 18.6352357  18.69575831 19.3786959  19.50084996 19.50770216\n",
      " 20.42210772 21.86248908]\n",
      "8.269846416207658\n",
      "Your pokemon is a Pikachu\n"
     ]
    }
   ],
   "metadata": {}
  },
  {
   "cell_type": "code",
   "execution_count": 61,
   "source": [
    "closetfive = 0\r\n",
    "pichuMinC = 0\r\n",
    "pikaMinC = 0\r\n",
    "\r\n",
    "\r\n",
    "while closetfive < 5:\r\n",
    "    pichuMin = closestPo.min()\r\n",
    "    pikaMin = closestPo2.min()\r\n",
    "\r\n",
    "    if pichuMin > pikaMin:\r\n",
    "        pikaMinC += 1\r\n",
    "        closetfive += 1\r\n",
    "        print(pikaMin)\r\n",
    "        closestPo2 = np.delete(closestPo2,0)\r\n",
    "    else:\r\n",
    "        pichuMinC += 1\r\n",
    "        closetfive += 1\r\n",
    "        print(pichuMin)\r\n",
    "        closestPo = np.delete(closestPo,0)\r\n",
    "\r\n",
    "print (closestPo2)\r\n",
    "\r\n",
    "if pichuMinC < pikaMinC:\r\n",
    "        print(\"You Pokemon is a Pikachu\" )\r\n",
    "else:\r\n",
    "        print(\"Your pokemon is a Pichu\")"
   ],
   "outputs": [
    {
     "output_type": "stream",
     "name": "stdout",
     "text": [
      "8.269846416207658\n",
      "8.712844044546394\n",
      "8.808553918852247\n",
      "9.668758066130293\n",
      "11.917029029048997\n",
      "[12.18594323 12.48937129 12.49629262 12.55148118 12.81257986 12.81780953\n",
      " 13.80385064 13.95111431 14.04006166 14.17873041 14.42055393 14.7840004\n",
      " 14.82894954 14.89808295 15.10677269 15.24962835 15.38128709 15.42169455\n",
      " 15.61561239 15.69468452 15.72249556 15.7888279  15.80612065 15.93234339\n",
      " 16.0018294  16.04382202 16.101568   16.10740899 16.3409088  16.67305166\n",
      " 16.80488663 17.16933825 17.38382297 17.60176529 18.28065415 18.35000693\n",
      " 18.42074194 18.53046296 18.6352357  18.69575831 19.3786959  19.50084996\n",
      " 19.50770216 20.42210772 21.86248908]\n",
      "You Pokemon is a Pikachu\n"
     ]
    }
   ],
   "metadata": {}
  }
 ],
 "metadata": {
  "orig_nbformat": 4,
  "language_info": {
   "name": "python",
   "version": "3.9.6",
   "mimetype": "text/x-python",
   "codemirror_mode": {
    "name": "ipython",
    "version": 3
   },
   "pygments_lexer": "ipython3",
   "nbconvert_exporter": "python",
   "file_extension": ".py"
  },
  "kernelspec": {
   "name": "python3",
   "display_name": "Python 3.9.6 64-bit ('pythonkurs-s4IvoQ70': pipenv)"
  },
  "interpreter": {
   "hash": "7844dc0ca27035570736aba6023ffa7617d905d828b6f4d4bd04534e2d076ee8"
  }
 },
 "nbformat": 4,
 "nbformat_minor": 2
}
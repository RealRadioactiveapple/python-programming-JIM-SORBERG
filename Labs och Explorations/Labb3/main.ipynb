{
 "cells": [
  {
   "cell_type": "code",
   "execution_count": null,
   "metadata": {},
   "outputs": [],
   "source": [
    "from geo_shapes import Cirkel\n",
    "from geo_shapes import Rektangel\n",
    "cirkel1 = Cirkel(0,0,1)\n",
    "\n",
    "cirkel1.cirkel_omfong()\n",
    "\n",
    "print(cirkel1.isInside(0,0))\n",
    "\n",
    "cirkel1.translate(1,1)\n",
    "\n",
    "cirkel1.cirkel_omfong()\n",
    "\n",
    "print(cirkel1.isInside(0,0))\n",
    "\n",
    "\n",
    "rektangel1 = Rektangel(0,0,4,4)\n",
    "\n",
    "rektangel1.rektangel_omfong()\n",
    "\n",
    "print(rektangel1.isInside(2,2))\n",
    "\n",
    "\n"
   ]
  }
 ],
 "metadata": {
  "interpreter": {
   "hash": "7844dc0ca27035570736aba6023ffa7617d905d828b6f4d4bd04534e2d076ee8"
  },
  "kernelspec": {
   "display_name": "Python 3.9.6 64-bit ('pythonkurs-s4IvoQ70': pipenv)",
   "name": "python3"
  },
  "language_info": {
   "codemirror_mode": {
    "name": "ipython",
    "version": 3
   },
   "file_extension": ".py",
   "mimetype": "text/x-python",
   "name": "python",
   "nbconvert_exporter": "python",
   "pygments_lexer": "ipython3",
   "version": "3.9.6"
  },
  "orig_nbformat": 4
 },
 "nbformat": 4,
 "nbformat_minor": 2
}
